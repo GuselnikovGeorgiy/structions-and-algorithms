{
 "cells": [
  {
   "cell_type": "markdown",
   "metadata": {
    "id": "0z3KlfKDn4_K"
   },
   "source": [
    "# Лабораторная работа 3. \n",
    "# Сетевые алгоритмы. Динамические алгоритмы поиска путей.\n"
   ]
  },
  {
   "cell_type": "markdown",
   "metadata": {
    "id": "96Gi_LEvmSVH"
   },
   "source": [
    "## Выполнила студентка группы БСТ2105 Первухина Алиса Александровна\n",
    "***"
   ]
  },
  {
   "cell_type": "markdown",
   "metadata": {
    "id": "GjdIp8aToKIe"
   },
   "source": [
    "### Задание\n",
    "\n",
    "1.  Реализовать алгоритм поиска кратчайшего расстояния между двумя вершинами ориентированного взвешенного графа в соответствии с вариантом. \n",
    "\n",
    "2.  Предусмотреть задание графа в виде матрицы смежности/инцидентности, читаемой из файла, либо графически с помощью пользовательского интерфейса. \n",
    "\n",
    "3.  Разработать графический интерфейс пользователя с визуализацией графа и отображением кратчайшего расстояния между задаваемыми пользователем вершинами.\n",
    "\n",
    "4. По результатам работы проанализировать временную сложность работы заданного алгоритма в зависимости от числа узлов и ребер графа.\n",
    "Данные представить в виде таблицы.\n",
    "\n"
   ]
  },
  {
   "cell_type": "markdown",
   "metadata": {
    "id": "LhhUXrAmotIA"
   },
   "source": [
    "### Алгоритмы:\n",
    "\n",
    "Алгоритм Флойда-Уоршелла| Алгоритм Дейкстры | Алгоритм Беллмана-Форда | Алгоритм Джонсона| Алгоритм Левита | Алгоритм Йена\n",
    "\n"
   ]
  },
  {
   "cell_type": "markdown",
   "metadata": {
    "id": "Wggfn8l7nG72"
   },
   "source": [
    "### Выполнение:"
   ]
  },
  {
   "cell_type": "code",
   "execution_count": 23,
   "metadata": {
    "colab": {
     "base_uri": "https://localhost:8080/",
     "height": 672
    },
    "id": "h7RzDeb_3CSo",
    "outputId": "e0e87f8f-682f-43b6-b3a5-da5eb889a942"
   },
   "outputs": [
    {
     "name": "stdout",
     "output_type": "stream",
     "text": [
      "1 - для генерации матрицы смежности НЕОРИЕНТРИРОВАННОГО графа,\n",
      "2 - для самостоятельного ввода2\n",
      "Матрица смежности:\n",
      "[0, 2, 0, 0, 3, 0]\n",
      "[0, 0, 4, 0, 0, 0]\n",
      "[0, 0, 0, 0, 0, 5]\n",
      "[0, 0, 1, 0, 0, 0]\n",
      "[0, 0, 0, 6, 0, 0]\n",
      "[0, 0, 0, 0, 0, 0]\n"
     ]
    },
    {
     "data": {
      "image/png": "[encoded data removed]",
      "text/plain": [
       "<Figure size 640x480 with 1 Axes>"
      ]
     },
     "metadata": {},
     "output_type": "display_data"
    }
   ],
   "source": [
    "import random\n",
    "import math\n",
    "import copy\n",
    "import numpy as np\n",
    "import networkx as nx\n",
    "import matplotlib.pyplot as plt\n",
    "def generate_adj_matrix(num_nodes, density):\n",
    "    \"\"\"\n",
    "    Генерирует матрицу смежности для ориентированного графа с заданным числом узлов и плотностью связей.\n",
    "    :param num_nodes: количество узлов в графе\n",
    "    :param density: плотность связей в графе (от 0 до 1)\n",
    "    \"\"\"\n",
    "    min, max = int(input(\"Введите мин значение для пути: \")), int(input(\"Введите макс значение для пути: \"))\n",
    "    \n",
    "    # Создаем пустую матрицу смежности\n",
    "    adj_matrix = [[0] * num_nodes for _ in range(num_nodes)]\n",
    "    \n",
    "    # Заполняем матрицу смежности ребрами\n",
    "    for i in range(num_nodes):\n",
    "        for k in range(0, i):\n",
    "            adj_matrix[i][k] = adj_matrix[k][i]\n",
    "        for j in range(i, num_nodes):\n",
    "            if i == j:\n",
    "                adj_matrix[i][j] = 0\n",
    "            elif random.random() < density:\n",
    "                weight = random.randint(min, max)\n",
    "                adj_matrix[i][j] = weight\n",
    "    \n",
    "    return adj_matrix\n",
    "\n",
    "choice = int(input(\"1 - для генерации матрицы смежности НЕОРИЕНТРИРОВАННОГО графа,\\n2 - для самостоятельного ввода\"))\n",
    "if choice == 1:\n",
    "  adj_matrix = generate_adj_matrix(int(input(\"Введите количество вершин: \")), 0.6)\n",
    "else: \n",
    "    #adj_matrix = [[0, 2, 0, 0, 3, 0],\n",
    "               #[0, 0, 4, 0, 0, 0],\n",
    "                #[0, 0, 0, 0, 0, 5],\n",
    "                #[0, 0, 1, 0, 0, 0],\n",
    "                #[0, 0, 0, 6, 0, 0]\n",
    "                #[0, 0, 0, 0, 0, 0]]\n",
    "    G = nx.DiGraph()\n",
    "    G.add_edge(1, 2, weight=2)\n",
    "    G.add_edge(1, 5, weight=3)\n",
    "    G.add_edge(3, 6, weight=5)\n",
    "    G.add_edge(4, 3, weight=1)\n",
    "    G.add_edge(5, 4, weight=6)\n",
    "# Выводим матрицу смежности на экран\n",
    "print(\"Матрица смежности:\")\n",
    "for row in adj_matrix:\n",
    "    print(row)\n",
    "\n",
    "#Выводим граф на экран \n",
    "G = nx.DiGraph(np.matrix(adj_matrix))\n",
    "layout = nx.spring_layout(G)\n",
    "edge_weight = nx.get_edge_attributes(G, \"weight\")\n",
    "nx.draw(G, layout, with_labels=True, font_weight='bold')\n",
    "nx.draw_networkx_edge_labels(G, pos=layout, edge_labels=edge_weight)\n",
    "plt.show()"
   ]
  },
  {
   "cell_type": "markdown",
   "metadata": {
    "id": "BCLJEQrOJrm2"
   },
   "source": [
    "### Алгоритм Флойда-Уоршелла\n",
    "\n",
    "Для любых 2 вершин i и j мы можем определить сумму на основе таблицы длин\n",
    "\n",
    "Vi,j = Vi,1 + V1,j"
   ]
  },
  {
   "cell_type": "code",
   "execution_count": null,
   "metadata": {
    "colab": {
     "base_uri": "https://localhost:8080/"
    },
    "id": "rxxIjZLaJsCT",
    "outputId": "78ba1918-6ebb-485a-9b8e-95aa475dc55d"
   },
   "outputs": [
    {
     "name": "stdout",
     "output_type": "stream",
     "text": [
      "Введите стартовую вершину: 0\n",
      "Введите конечную вершину: 5\n",
      "Кратчайший путь проходит через вершины: [5, 4, 1, 0]\n"
     ]
    }
   ],
   "source": [
    "def algorithmFloyd(adj_matrix, start, end):\n",
    "  matrix = copy.deepcopy(adj_matrix)\n",
    "  \n",
    "  for i in range(len(matrix)):\n",
    "        for j in range(len(matrix)):\n",
    "            if i != j and adj_matrix[i][j] == 0:\n",
    "                matrix[i][j] = math.inf\n",
    "                # Если вершины не являются одной и той же вершиной, и в матрице смежности между \n",
    "                # ними нет ребра, то устанавливаем вес между ними равным бесконечности.\n",
    "\n",
    "  def getPath(P, u, v):\n",
    "    path = [u]\n",
    "    while u != v:\n",
    "        u = P[u][v]\n",
    "        path.append(u)\n",
    "\n",
    "    return path\n",
    "\n",
    "  peekNumbers = len(matrix)      # число вершин в графе\n",
    "  P = [[v for v in range(peekNumbers)] for u in range(peekNumbers)]   # начальный список предыдущих вершин для поиска кратчайших маршрутов\n",
    "\n",
    "  for k in range(peekNumbers):\n",
    "    for i in range(peekNumbers):\n",
    "        for j in range(peekNumbers):\n",
    "            d = matrix[i][k] + matrix[k][j]\n",
    "            if matrix[i][j] > d:\n",
    "                matrix[i][j] = d\n",
    "                P[i][j] = k     # номер промежуточной вершины при движении от i к j\n",
    "\n",
    "  return getPath(P, end, start)\n",
    "\n",
    "startPos, endPos = int(input(\"Введите стартовую вершину: \")), int(input(\"Введите конечную вершину: \"))\n",
    "print(\"Кратчайший путь проходит через вершины:\", algorithmFloyd(adj_matrix, startPos, endPos))\n"
   ]
  },
  {
   "cell_type": "markdown",
   "metadata": {
    "id": "XV8Pq39OlWDt"
   },
   "source": [
    "### Алгоритм Дейкстры\n",
    "\n"
   ]
  },
  {
   "cell_type": "code",
   "execution_count": 24,
   "metadata": {
    "colab": {
     "base_uri": "https://localhost:8080/"
    },
    "id": "kBBzEYvw8KJA",
    "outputId": "2f1a5b78-aa81-4661-df4e-cb594e00262a"
   },
   "outputs": [
    {
     "name": "stdout",
     "output_type": "stream",
     "text": [
      "Введите стартовую вершину: 0\n",
      "Введите конечную вершину: 5\n",
      "Кратчайший путь проходит через вершины: [5, 2, 1, 0]\n"
     ]
    }
   ],
   "source": [
    "def algorithmDijkstra(adj_matrix, start, end):\n",
    "  matrix = copy.deepcopy(adj_matrix)\n",
    "  for i in range(len(matrix)):\n",
    "        for j in range(len(matrix)):\n",
    "            if i != j and adj_matrix[i][j] == 0:\n",
    "                matrix[i][j] = math.inf\n",
    "\n",
    "  def arg_min(T, S):  #Вспомогательная функция для возвращения вершины с минимальным весом\n",
    "    amin = -1\n",
    "    m = math.inf  # максимальное значение\n",
    "    for i, t in enumerate(T):\n",
    "        if t < m and i not in S:\n",
    "            m = t\n",
    "            amin = i\n",
    "    return amin \n",
    "\n",
    "  peekNumbers = len(matrix)  # число вершин в графе\n",
    "  lastLine = [math.inf]* peekNumbers   # последняя строка таблицы\n",
    "  startPeek = start      # стартовая вершина (нумерация с нуля)\n",
    "  seenPeeks = {startPeek}     # просмотренные вершины\n",
    "  lastLine[startPeek] = 0    # нулевой вес для стартовой вершины\n",
    "  M = [0]* peekNumbers   # оптимальные связи между вершинами\n",
    "\n",
    "  while startPeek != -1:          # цикл, пока не просмотрим все вершины\n",
    "    for j, dw in enumerate(matrix[startPeek]):   # перебираем все связанные вершины с вершиной v\n",
    "        if j not in seenPeeks:           # если вершина еще не просмотрена\n",
    "            weight = lastLine[startPeek] + dw\n",
    "            if weight < lastLine[j]:\n",
    "                lastLine[j] = weight\n",
    "                M[j] = startPeek        # связываем вершину j с вершиной v\n",
    "\n",
    "    startPeek = arg_min(lastLine, seenPeeks)            # выбираем следующий узел с наименьшим весом\n",
    "    if startPeek >= 0:                    # выбрана очередная вершина\n",
    "        seenPeeks.add(startPeek)                 # добавляем новую вершину в рассмотрение\n",
    "\n",
    "  # формирование оптимального маршрута:\n",
    "  P = [end]\n",
    "  while end != start:\n",
    "    end = M[P[-1]]\n",
    "    P.append(end)\n",
    "\n",
    "  return P\n",
    "\n",
    "startPos, endPos = int(input(\"Введите стартовую вершину: \")), int(input(\"Введите конечную вершину: \"))\n",
    "\n",
    "print(\"Кратчайший путь проходит через вершины:\", algorithmDijkstra(adj_matrix, startPos, endPos))"
   ]
  },
  {
   "cell_type": "markdown",
   "metadata": {
    "id": "uu_GyKNla3HJ"
   },
   "source": [
    "### Алгоритм Беллмана-Форда"
   ]
  },
  {
   "cell_type": "code",
   "execution_count": null,
   "metadata": {
    "id": "NSuEDAIea-N-"
   },
   "outputs": [],
   "source": [
    "def bellmanFord(adj_matrix, start, end):\n",
    "  matrix = copy.deepcopy(adj_matrix)\n",
    "  \n",
    "  for i in range(len(matrix)):\n",
    "        for j in range(len(matrix)):\n",
    "            if i != j and adj_matrix[i][j] == 0:\n",
    "                matrix[i][j] = math.inf\n",
    "\n",
    "  lambdas = []\n",
    "  labels = []\n",
    "  n = len(matrix)\n",
    "  for i in range(n):\n",
    "      lambdas.append(math.inf)\n",
    "  lambdas[start] = 0\n",
    "\n",
    "  for k in range(n):\n",
    "      for i in range(n):\n",
    "          for j in range(n):\n",
    "              labels.append(lambdas[j] + matrix[j][i])\n",
    "              # добавление в список labels значения суммы предыдущей метки и веса ребра между вершинами j и i.\n",
    "          lambdas[i] = min(labels)\n",
    "          #  установка минимального значения из списка labels в качестве новой метки для вершины i.\n",
    "          labels.clear()\n",
    "          # очистка списка labels для следующей итерации.\n",
    "\n",
    "  return lambdas[end]\n",
    "\n",
    "startPos, endPos = int(input(\"Введите стартовую вершину: \")), int(input(\"Введите конечную вершину: \"))\n",
    "print(\"Кратчайший путь проходит через вершины:\", bellmanFord(adj_matrix, startPos, endPos))  "
   ]
  },
  {
   "cell_type": "markdown",
   "metadata": {
    "id": "_ukDaifd3WoQ"
   },
   "source": [
    "Алгоритм Джонсона\n",
    "- Трансформировать исходный граф, добавив новую вершину и ребра с нулевыми весами из этой вершины во все остальные вершины графа.\n",
    "- Запустить алгоритм Беллмана-Форда на трансформированном графе, чтобы найти кратчайшие пути от новой вершины до всех остальных вершин.\n",
    "- Скорректировать веса исходных ребер на основе расстояний до новой вершины, так что они все неотрицательны.\n",
    "- Запустить алгоритм Дейкстры на скорректированном графе для каждой вершины в качестве исходной, чтобы найти кратчайшие пути до всех остальных вершин."
   ]
  },
  {
   "cell_type": "code",
   "execution_count": 22,
   "metadata": {
    "colab": {
     "base_uri": "https://localhost:8080/"
    },
    "id": "VFiLCpMk3WYX",
    "outputId": "9ec1369f-8bd1-4171-ce7d-2a9186d776d4"
   },
   "outputs": [
    {
     "name": "stdout",
     "output_type": "stream",
     "text": [
      "Введите стартовую вершину: 0\n",
      "Введите конечную вершину: 5\n",
      "Кратчайший путь проходит через вершины: [5, 2, 1, 0]\n"
     ]
    }
   ],
   "source": [
    "\n",
    "def johnson(adj_matrix, start, end):\n",
    "    matrix = copy.deepcopy(adj_matrix)\n",
    "    # Все ребра с нулевым весом заменяются на бесконечность, чтобы избежать отрицательных циклов\n",
    "    for i in range(len(matrix)):\n",
    "            for j in range(len(matrix[i])):\n",
    "                if matrix[i][j] == 0 and i != j:\n",
    "                    matrix[i][j] = math.inf\n",
    "    negatives = 0\n",
    "    # Есть ли отрицательные веса в графе ?\n",
    "    for i in range(len(matrix)):\n",
    "        for j in range(len(matrix[i])):\n",
    "            if matrix[i][j] < 0:\n",
    "                negatives = 1\n",
    "                break\n",
    "    # Если есть, то производится трансформация графа (добавим новую вершину и ребра с нулевыми весами из этой вершины во все остальные вершины графа\n",
    "    if negatives != 0:\n",
    "        # Добавляем новую вершину и ребра с нулевыми весами из этой вершины во все остальные вершины графа.\n",
    "        matrix.append([math.inf for i in range(len(matrix))])\n",
    "        for i in range(len(matrix)):\n",
    "            matrix[i].append(0)\n",
    "        # Создаем список вершин графа и сортируем его.\n",
    "        nodes = []\n",
    "        for i in range(len(adj_matrix.nodes)):\n",
    "            nodes.append(list(adj_matrix.nodes)[i]['id'])\n",
    "        nodes.sort()\n",
    "        # Для каждой вершины находим длины кратчайших путей до всех остальных вершин в новом графе.\n",
    "        lens = []\n",
    "        for i in range(len(nodes)):\n",
    "            lens.append(bellmanFord(matrix, len(matrix), nodes[i]))\n",
    "        for i in range(len(matrix)):\n",
    "            matrix[i].pop()\n",
    "        matrix.pop()\n",
    "        # применяем модификацию Дейкстры, чтобы скорректировать веса ребер в новом графе.\n",
    "        for i in range(len(matrix)):\n",
    "            for j in range(len(matrix[i])):\n",
    "                if matrix[i][j] != 0 and matrix[i][j] != math.inf:\n",
    "                    matrix[i][j] = matrix[i][j] + lens[j] - lens[i]\n",
    "        for i in range(len(matrix)):\n",
    "            for j in range(len(matrix[i])):\n",
    "                if matrix[i][j] != math.inf and i != j:\n",
    "                    matrix[i][j] += 1\n",
    "\n",
    "    res = algorithmDijkstra(matrix, start, end)\n",
    "    return res\n",
    "\n",
    "startPos, endPos = int(input(\"Введите стартовую вершину: \")), int(input(\"Введите конечную вершину: \"))\n",
    "print(\"Кратчайший путь проходит через вершины:\", johnson(adj_matrix, startPos, endPos))  "
   ]
  },
  {
   "cell_type": "markdown",
   "metadata": {
    "id": "5VX_dptp8pK2"
   },
   "source": [
    "Алгоритм Левита\n"
   ]
  },
  {
   "cell_type": "code",
   "execution_count": null,
   "metadata": {
    "id": "Ov8gK674T5yI"
   },
   "outputs": [],
   "source": []
  },
  {
   "cell_type": "markdown",
   "metadata": {
    "id": "_RjKcsaHvUoT"
   },
   "source": [
    "Алгоритм Йена"
   ]
  },
  {
   "cell_type": "code",
   "execution_count": 26,
   "metadata": {
    "id": "yVGEtyb-vXeM"
   },
   "outputs": [],
   "source": []
  },
  {
   "cell_type": "markdown",
   "metadata": {
    "id": "8rXAXy0tcs7n"
   },
   "source": [
    "Оценка временной сложности"
   ]
  },
  {
   "cell_type": "code",
   "execution_count": null,
   "metadata": {
    "id": "vSNvSrDMctQd"
   },
   "outputs": [],
   "source": [
    "res = []\n",
    "for i in range(6,9):"
   ]
  },
  {
   "cell_type": "markdown",
   "metadata": {
    "id": "diOb-K7LnO5a"
   },
   "source": [
    "### Вывод\n",
    "В ходе данной лабораторной работы были реализованы алгоритмы нахождения кратчайшего пути на графе и определены зависимости времени исполнения алгоритма от числа узлов и ребер графа:"
   ]
  }
 ],
 "metadata": {
  "colab": {
   "provenance": []
  },
  "kernelspec": {
   "display_name": "Python 3 (ipykernel)",
   "language": "python",
   "name": "python3"
  },
  "language_info": {
   "codemirror_mode": {
    "name": "ipython",
    "version": 3
   },
   "file_extension": ".py",
   "mimetype": "text/x-python",
   "name": "python",
   "nbconvert_exporter": "python",
   "pygments_lexer": "ipython3",
   "version": "3.9.13"
  }
 },
 "nbformat": 4,
 "nbformat_minor": 1
}
