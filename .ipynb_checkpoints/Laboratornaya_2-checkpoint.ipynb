{
 "cells": [
  {
   "cell_type": "markdown",
   "id": "fifteen-sailing",
   "metadata": {
    "id": "fifteen-sailing"
   },
   "source": [
    "# Лабораторная работа №2\n",
    "## Выполнила студентка группы БСТ2105 Первухина Алиса Александровна"
   ]
  },
  {
   "cell_type": "markdown",
   "id": "arctic-stocks",
   "metadata": {
    "id": "arctic-stocks"
   },
   "source": [
    "Реализовать следующие структуры данных:\n",
    "  \n",
    "● <b> Стек (stack): </b>  \n",
    "Операции для стека: \n",
    "<i> инициализация, проверка на пустоту, добавление нового элемента в начало, извлечение элемента из начала;  </i>  \n",
    "  \n",
    "● <b> Дек (двусторонняя очередь, deque):  </b>  \n",
    "Операции для дека: \n",
    "<i> инициализация, проверка на пустоту, добавление нового элемента в начало, добавление нового элемента в конец, извлечение элемента из начала, извлечение элемента из конца. </i>  \n",
    "  \n",
    "<i> Разработать программу обработки данных, содержащихся в заранее подготовленном txt-файле, в соответствии с заданиями, применив указанную в задании структуру данных. Результат работы программы вывести на экран и сохранить в отдельном txt-файле. </i>"
   ]
  },
  {
   "cell_type": "markdown",
   "id": "5d7edb08",
   "metadata": {
    "id": "5d7edb08",
    "scrolled": true
   },
   "source": [
    "### Задание №1\n",
    "Отсортировать строки файла, содержащие названия книг, в алфавитном порядке с использованием двух деков."
   ]
  },
  {
   "cell_type": "code",
   "execution_count": 1,
   "id": "pzFwDNjYH855",
   "metadata": {
    "colab": {
     "base_uri": "https://localhost:8080/"
    },
    "id": "pzFwDNjYH855",
    "outputId": "78f2b98a-86b1-444d-f90b-cd63f14044a0"
   },
   "outputs": [
    {
     "ename": "ModuleNotFoundError",
     "evalue": "No module named 'google'",
     "output_type": "error",
     "traceback": [
      "\u001b[1;31m---------------------------------------------------------------------------\u001b[0m",
      "\u001b[1;31mModuleNotFoundError\u001b[0m                       Traceback (most recent call last)",
      "\u001b[1;32m~\\AppData\\Local\\Temp\\ipykernel_2256\\1368466730.py\u001b[0m in \u001b[0;36m<module>\u001b[1;34m\u001b[0m\n\u001b[0;32m      1\u001b[0m \u001b[1;32mfrom\u001b[0m \u001b[0mcollections\u001b[0m \u001b[1;32mimport\u001b[0m \u001b[0mdeque\u001b[0m\u001b[1;33m\u001b[0m\u001b[1;33m\u001b[0m\u001b[0m\n\u001b[1;32m----> 2\u001b[1;33m \u001b[1;32mfrom\u001b[0m \u001b[0mgoogle\u001b[0m\u001b[1;33m.\u001b[0m\u001b[0mcolab\u001b[0m \u001b[1;32mimport\u001b[0m \u001b[0mdrive\u001b[0m\u001b[1;33m\u001b[0m\u001b[1;33m\u001b[0m\u001b[0m\n\u001b[0m\u001b[0;32m      3\u001b[0m \u001b[0mdrive\u001b[0m\u001b[1;33m.\u001b[0m\u001b[0mmount\u001b[0m\u001b[1;33m(\u001b[0m\u001b[1;34m'/content/drive'\u001b[0m\u001b[1;33m)\u001b[0m\u001b[1;33m\u001b[0m\u001b[1;33m\u001b[0m\u001b[0m\n",
      "\u001b[1;31mModuleNotFoundError\u001b[0m: No module named 'google'"
     ]
    }
   ],
   "source": [
    "from collections import deque\n",
    "from google.colab import drive\n",
    "drive.mount('/content/drive')"
   ]
  },
  {
   "cell_type": "code",
   "execution_count": 19,
   "id": "17702ade",
   "metadata": {
    "colab": {
     "base_uri": "https://localhost:8080/"
    },
    "id": "17702ade",
    "outputId": "39d734e8-16fc-444f-e6b8-696c0863124b"
   },
   "outputs": [
    {
     "name": "stdout",
     "output_type": "stream",
     "text": [
      "Исходный файл:\n",
      " Мартин Иден\n",
      " Джейн Эйр\n",
      " Алиса в Зазеркалье\n",
      " Белая гвардия\n",
      " Снафф\n",
      " Американский психопат\n",
      " Таинственная история Билли Миллигана\n",
      "Отсортированный файл:\n",
      " Алиса в Зазеркалье\n",
      " Американский психопат\n",
      " Белая гвардия\n",
      " Джейн Эйр\n",
      " Мартин Иден\n",
      " Снафф\n",
      " Таинственная история Билли Миллигана\n"
     ]
    }
   ],
   "source": [
    "books=open('/content/drive/MyDrive/СиАОД лабы/2 ЛАБА ТЕКСТЫ/1 задание/bookList.txt', 'r', encoding = 'utf-8')\n",
    "deq1, deq2 = deque(), deque()\n",
    "for book in books:\n",
    "  deq1.append(book)\n",
    "print(\"Исходный файл:\\n\",*deq1)  \n",
    "\n",
    "while not len(deq1) == 0:\n",
    "  x = deq1.pop()\n",
    "  while not len(deq2) == 0 and deq2[-1] > x:\n",
    "    deq1.appendleft(deq2.pop())\n",
    "  deq2.append(x)\n",
    "\n",
    "print(\"Отсортированный файл:\\n\", *deq2)\n",
    "\n",
    "#запись отсортированного списка в новый файл sortedBookList.txt\n",
    "sortedBooks=open('/content/drive/MyDrive/СиАОД лабы/2 ЛАБА ТЕКСТЫ/1 задание/sortedBookList.txt', 'w', encoding = 'utf-8')\n",
    "with sortedBooks as writefile:\n",
    "  for sortedBook in deq2:\n",
    "      writefile.write(sortedBook)"
   ]
  },
  {
   "cell_type": "markdown",
   "id": "49fbd2a0",
   "metadata": {
    "id": "49fbd2a0"
   },
   "source": [
    "### Задание №2\n",
    "Дек содержит последовательность символов для шифровки сообщений. Дан текстовый файл, содержащий зашифрованное сообщение. Пользуясь деком, расшифровать текст. \n",
    "Известно, что при шифровке каждый символ сообщения заменялся следующим за ним в деке по часовой стрелке через один."
   ]
  },
  {
   "cell_type": "code",
   "execution_count": null,
   "id": "81cab7a8",
   "metadata": {
    "id": "81cab7a8"
   },
   "outputs": [],
   "source": [
    "russianAlphabet = list('абвгдеёжзийклмнопрстуфхцчшщъыьэюя')"
   ]
  },
  {
   "cell_type": "markdown",
   "id": "c0894f47",
   "metadata": {
    "id": "c0894f47"
   },
   "source": [
    "### Задание №3\n",
    "Даны три стержня и n дисков различного размера. Диски можно надевать на стержни, образуя из них башни. Перенести n дисков со стержня А на стержень С, сохранив их первоначальный порядок. При переносе дисков необходимо соблюдать следующие правила:\n",
    "- на каждом шаге со стержня на стержень переносить только один диск;\n",
    "- диск нельзя помещать на диск меньшего размера;\n",
    "- для промежуточного хранения можно использовать стержень В.\n",
    "Реализовать алгоритм, используя три стека вместо стержней А, В, С. Информация о дисках хранится в исходном файле."
   ]
  },
  {
   "cell_type": "code",
   "execution_count": null,
   "id": "9e91a9d4",
   "metadata": {
    "id": "9e91a9d4"
   },
   "outputs": [],
   "source": []
  },
  {
   "cell_type": "markdown",
   "id": "e5b0be17",
   "metadata": {
    "id": "e5b0be17"
   },
   "source": [
    "### Задание №4\n",
    "Дан текстовый файл с программой на алгоритмическом языке. За один просмотр файла проверить баланс круглых скобок в тексте, используя стек."
   ]
  },
  {
   "cell_type": "code",
   "execution_count": null,
   "id": "5b1df60a",
   "metadata": {
    "id": "5b1df60a"
   },
   "outputs": [],
   "source": []
  },
  {
   "cell_type": "markdown",
   "id": "c44cdd6b",
   "metadata": {
    "id": "c44cdd6b"
   },
   "source": [
    "### Задание №5\n",
    "Дан текстовый файл с программой на алгоритмическом языке. За один просмотр файла проверить баланс квадратных скобок в тексте, используя дек."
   ]
  },
  {
   "cell_type": "code",
   "execution_count": null,
   "id": "36b8f400",
   "metadata": {
    "id": "36b8f400"
   },
   "outputs": [],
   "source": []
  },
  {
   "cell_type": "markdown",
   "id": "59d13dc7",
   "metadata": {
    "id": "59d13dc7"
   },
   "source": [
    "### Задание №6\n",
    "Дан файл из символов. Используя стек, за один просмотр файла напечатать сначала все цифры, затем все буквы, и, наконец, все остальные символы, сохраняя исходный порядок в каждой группе символов."
   ]
  },
  {
   "cell_type": "code",
   "execution_count": null,
   "id": "297e36c2",
   "metadata": {
    "id": "297e36c2"
   },
   "outputs": [],
   "source": []
  },
  {
   "cell_type": "markdown",
   "id": "973f68bd",
   "metadata": {
    "id": "973f68bd"
   },
   "source": [
    "### Задание №7\n",
    "Дан файл из целых чисел. Используя дек, за один просмотр файла напечатать сначала все отрицательные числа, затем все положительные числа, сохраняя исходный порядок в каждой группе."
   ]
  },
  {
   "cell_type": "code",
   "execution_count": null,
   "id": "c56fad66",
   "metadata": {
    "id": "c56fad66"
   },
   "outputs": [],
   "source": []
  },
  {
   "cell_type": "markdown",
   "id": "b9228191",
   "metadata": {
    "id": "b9228191"
   },
   "source": [
    "### Задание №8\n",
    "Дан текстовый файл. Используя стек, сформировать новый текстовый файл, содержащий строки исходного файла, записанные в обратном порядке: первая строка становится последней, вторая – предпоследней и т.д."
   ]
  },
  {
   "cell_type": "code",
   "execution_count": null,
   "id": "981fbdfe",
   "metadata": {
    "id": "981fbdfe"
   },
   "outputs": [],
   "source": []
  },
  {
   "cell_type": "markdown",
   "id": "rental-jerusalem",
   "metadata": {
    "id": "rental-jerusalem"
   },
   "source": [
    "### Вывод\n"
   ]
  },
  {
   "cell_type": "markdown",
   "id": "0c2b8899",
   "metadata": {
    "id": "0c2b8899"
   },
   "source": []
  }
 ],
 "metadata": {
  "colab": {
   "provenance": []
  },
  "kernelspec": {
   "display_name": "Python 3 (ipykernel)",
   "language": "python",
   "name": "python3"
  },
  "language_info": {
   "codemirror_mode": {
    "name": "ipython",
    "version": 3
   },
   "file_extension": ".py",
   "mimetype": "text/x-python",
   "name": "python",
   "nbconvert_exporter": "python",
   "pygments_lexer": "ipython3",
   "version": "3.9.13"
  }
 },
 "nbformat": 4,
 "nbformat_minor": 5
}
