{
 "cells": [
  {
   "cell_type": "markdown",
   "metadata": {
    "id": "0z3KlfKDn4_K"
   },
   "source": [
    "# Лабораторная работа 3. \n",
    "# Сетевые алгоритмы. Динамические алгоритмы поиска путей.\n"
   ]
  },
  {
   "cell_type": "markdown",
   "metadata": {
    "id": "96Gi_LEvmSVH"
   },
   "source": [
    "## Выполнил студент группы БСТ2105 Гусельников Г. М.\n",
    "***"
   ]
  },
  {
   "cell_type": "markdown",
   "metadata": {
    "id": "GjdIp8aToKIe"
   },
   "source": [
    "### Задание\n",
    "\n",
    "1.  Реализовать алгоритм поиска кратчайшего расстояния между двумя вершинами ориентированного взвешенного графа в соответствии с вариантом. \n",
    "\n",
    "2.  Предусмотреть задание графа в виде матрицы смежности/инцидентности, читаемой из файла, либо графически с помощью пользовательского интерфейса. \n",
    "\n",
    "3.  Разработать графический интерфейс пользователя с визуализацией графа и отображением кратчайшего расстояния между задаваемыми пользователем вершинами.\n",
    "\n",
    "4. По результатам работы проанализировать временную сложность работы заданного алгоритма в зависимости от числа узлов и ребер графа.\n",
    "Данные представить в виде таблицы.\n",
    "\n"
   ]
  },
  {
   "cell_type": "markdown",
   "metadata": {
    "id": "LhhUXrAmotIA"
   },
   "source": [
    "### Алгоритмы:\n",
    "\n",
    "Алгоритм Флойда-Уоршелла| Алгоритм Дейкстры | Алгоритм Беллмана-Форда | Алгоритм Джонсона| Алгоритм Левита | Алгоритм Йена\n",
    "\n"
   ]
  },
  {
   "cell_type": "markdown",
   "metadata": {
    "id": "Wggfn8l7nG72"
   },
   "source": [
    "### Выполнение:"
   ]
  },
  {
   "cell_type": "code",
   "execution_count": null,
   "metadata": {
    "id": "681a95mZnOSa",
    "scrolled": false
   },
   "outputs": [
    {
     "name": "stdout",
     "output_type": "stream",
     "text": [
      "1 - для генерации матрицы смежности,\n",
      "2 - для вызова из файла: 1\n",
      "Введите количество вершин: 10\n",
      "Введите мин значение для пути: 1\n",
      "Введите макс значение для пути: 7\n",
      "Матрица смежности:\n",
      "[0, 6, 0, 5, 5, 0, 0, 1, 0, 7]\n",
      "[6, 0, 0, 1, 1, 0, 1, 0, 5, 0]\n",
      "[0, 0, 0, 3, 1, 0, 0, 2, 0, 2]\n",
      "[5, 1, 3, 0, 6, 2, 2, 0, 0, 6]\n",
      "[5, 1, 1, 6, 0, 7, 6, 0, 3, 0]\n",
      "[0, 0, 0, 2, 7, 0, 0, 0, 0, 2]\n",
      "[0, 1, 0, 2, 6, 0, 0, 0, 0, 0]\n",
      "[1, 0, 2, 0, 0, 0, 0, 0, 1, 1]\n",
      "[0, 5, 0, 0, 3, 0, 0, 1, 0, 1]\n",
      "[7, 0, 2, 6, 0, 2, 0, 1, 1, 0]\n"
     ]
    }
   ],
   "source": [
    "import random\n",
    "import math\n",
    "import copy\n",
    "import numpy as np\n",
    "import networkx as nx\n",
    "import matplotlib.pyplot as plt\n",
    "\n",
    "def generate_adj_matrix(num_nodes, density):\n",
    "    \"\"\"\n",
    "    Генерирует матрицу смежности для ориентированного графа с заданным числом узлов и плотностью связей.\n",
    "    :param num_nodes: количество узлов в графе\n",
    "    :param density: плотность связей в графе (от 0 до 1)\n",
    "    \"\"\"\n",
    "    min, max = int(input(\"Введите мин значение для пути: \")), int(input(\"Введите макс значение для пути: \"))\n",
    "    \n",
    "    # Создаем пустую матрицу смежности\n",
    "    adj_matrix = [[0] * num_nodes for _ in range(num_nodes)]\n",
    "    \n",
    "    # Заполняем матрицу смежности ребрами\n",
    "    for i in range(num_nodes):\n",
    "        for k in range(0, i):\n",
    "            adj_matrix[i][k] = adj_matrix[k][i]\n",
    "        for j in range(i, num_nodes):\n",
    "            if i == j:\n",
    "                adj_matrix[i][j] = 0\n",
    "            elif random.random() < density:\n",
    "                weight = random.randint(min, max)\n",
    "                adj_matrix[i][j] = weight\n",
    "    \n",
    "    return adj_matrix\n",
    "\n",
    "question = int(input(\"1 - для генерации матрицы смежности,\\n2 - для вызова из файла: \"))\n",
    "if question == 1:\n",
    "    adj_matrix = generate_adj_matrix(int(input(\"Введите количество вершин: \")), 0.6)\n",
    "else:\n",
    "    with open(\"sources/matrix1.txt\", \"r\") as f:\n",
    "        adj_matrix = []\n",
    "        for str in f:\n",
    "            adj_matrix.append(list(map(int, str.split())))\n",
    "\n",
    "# Выводим матрицу смежности на экран\n",
    "print(\"Матрица смежности:\")\n",
    "for row in adj_matrix:\n",
    "    print(row)\n",
    "    \n",
    "#Выводим граф на экран\n",
    "G = nx.from_numpy_matrix(np.matrix(adj_matrix), create_using=nx.DiGraph)\n",
    "layout = nx.spring_layout(G)\n",
    "edge_weight = nx.get_edge_attributes(G, \"weight\")\n",
    "nx.draw(G, layout, with_labels=True, font_weight='bold')\n",
    "nx.draw_networkx_edge_labels(G, pos=layout, edge_labels=edge_weight)\n",
    "plt.show()"
   ]
  },
  {
   "cell_type": "markdown",
   "metadata": {},
   "source": [
    "### Алгоритм Флойда-Уоршелла"
   ]
  },
  {
   "cell_type": "code",
   "execution_count": 60,
   "metadata": {},
   "outputs": [
    {
     "name": "stdout",
     "output_type": "stream",
     "text": [
      "[4, 2, 0]\n"
     ]
    }
   ],
   "source": [
    "def Floyd(adj_matrix, start, end):\n",
    "    \n",
    "    def get_path(P, u, v):\n",
    "        path = [u]\n",
    "        while u != v:\n",
    "            u = P[u][v]\n",
    "            path.append(u)\n",
    "\n",
    "        return path\n",
    "\n",
    "    N = len(adj_matrix)                                 # число вершин в графе\n",
    "    P = [[v for v in range(N)] for u in range(N)]       # начальный список предыдущих вершин для поиска кратчайших маршрутов\n",
    "\n",
    "    for k in range(N):\n",
    "        for i in range(N):\n",
    "            for j in range(N):\n",
    "                d = adj_matrix[i][k] + adj_matrix[k][j]\n",
    "                if adj_matrix[i][j] > d:\n",
    "                    adj_matrix[i][j] = d\n",
    "                    P[i][j] = k     # номер промежуточной вершины при движении от i к j\n",
    "\n",
    "    return get_path(P, end, start)\n",
    "\n",
    "print(Floyd(adj_matrix, 0, 4))"
   ]
  },
  {
   "cell_type": "markdown",
   "metadata": {},
   "source": [
    "### Алгоритм Дейкстры"
   ]
  },
  {
   "cell_type": "code",
   "execution_count": 59,
   "metadata": {},
   "outputs": [
    {
     "name": "stdout",
     "output_type": "stream",
     "text": [
      "[4, 2, 0]\n"
     ]
    }
   ],
   "source": [
    "def dijkstra(adj_matrix, start, end):\n",
    "\n",
    "    matrix = copy.copy(adj_matrix)\n",
    "\n",
    "    for i in range(len(matrix)):\n",
    "        for j in range(len(matrix)):\n",
    "            if i != j and adj_matrix[i][j] == 0:\n",
    "                matrix[i][j] = math.inf\n",
    "\n",
    "    def arg_min(T, checked_peaks):\n",
    "        amin = -1\n",
    "        m = math.inf  # максимальное значение\n",
    "        for i, t in enumerate(T):\n",
    "            if t < m and i not in checked_peaks:\n",
    "                m = t\n",
    "                amin = i\n",
    "\n",
    "        return amin\n",
    "\n",
    "    len_matrix = len(matrix)  # число вершин в графе\n",
    "    min_dist_to_peak = [math.inf] * len_matrix  # последняя строка таблицы\n",
    "\n",
    "    cur_peak = start  # стартовая вершина (нумерация с нуля)\n",
    "    checked_peaks = {cur_peak}  # просмотренные вершины\n",
    "    min_dist_to_peak[cur_peak] = 0  # нулевой вес для стартовой вершины\n",
    "    optim_edges = [0] * len_matrix  # оптимальные связи между вершинами\n",
    "\n",
    "    while cur_peak != -1:  # цикл, пока не просмотрим все вершины\n",
    "        for j, dw in enumerate(matrix[cur_peak]):  # перебираем все связанные вершины с вершиной cur_peak\n",
    "            if j not in checked_peaks:  # если вершина еще не просмотрена\n",
    "                weight = min_dist_to_peak[cur_peak] + dw\n",
    "                if weight < min_dist_to_peak[j]:\n",
    "                    min_dist_to_peak[j] = weight\n",
    "                    optim_edges[j] = cur_peak  # связываем вершину j с вершиной cur_peak\n",
    "\n",
    "        cur_peak = arg_min(min_dist_to_peak, checked_peaks)  # выбираем следующий узел с наименьшим весом\n",
    "        if cur_peak >= 0:  # выбрана очередная вершина\n",
    "            checked_peaks.add(cur_peak)  # добавляем новую вершину в рассмотрение\n",
    "\n",
    "    # print(min_dist_to_peak, optim_edges, sep=\"\\n\")\n",
    "\n",
    "    # формирование оптимального маршрута:\n",
    "    min_path = [end]\n",
    "    while end != start:\n",
    "        end = optim_edges[min_path[-1]]\n",
    "        min_path.append(end)\n",
    "\n",
    "    return min_path\n",
    "\n",
    "\n",
    "print(dijkstra(adj_matrix, 0, 4))"
   ]
  },
  {
   "cell_type": "markdown",
   "metadata": {
    "id": "diOb-K7LnO5a"
   },
   "source": [
    "## Вывод"
   ]
  }
 ],
 "metadata": {
  "colab": {
   "provenance": []
  },
  "kernelspec": {
   "display_name": "Python 3 (ipykernel)",
   "language": "python",
   "name": "python3"
  },
  "language_info": {
   "codemirror_mode": {
    "name": "ipython",
    "version": 3
   },
   "file_extension": ".py",
   "mimetype": "text/x-python",
   "name": "python",
   "nbconvert_exporter": "python",
   "pygments_lexer": "ipython3",
   "version": "3.9.13"
  }
 },
 "nbformat": 4,
 "nbformat_minor": 1
}
