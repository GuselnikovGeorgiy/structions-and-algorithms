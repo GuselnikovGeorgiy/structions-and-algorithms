{
 "cells": [
  {
   "cell_type": "markdown",
   "id": "fifteen-sailing",
   "metadata": {
    "id": "fifteen-sailing"
   },
   "source": [
    "# Лабораторная работа №1\n",
    "## Выполнил студент группы БСТ2105 Гусельников Г.М.\n"
   ]
  },
  {
   "cell_type": "markdown",
   "id": "particular-syndicate",
   "metadata": {
    "id": "particular-syndicate"
   },
   "source": [
    "### Оглавление\n",
    "1. [Задание 1](#Задание-№1)\n",
    "2. [Задание 2](#Задание-№2)\n",
    "3. [Задание 3](#Задание-№3)\n",
    "4. [Вывод](#Вывод)"
   ]
  },
  {
   "cell_type": "markdown",
   "id": "arctic-stocks",
   "metadata": {
    "id": "arctic-stocks"
   },
   "source": [
    "### Задание №1\n",
    "<i> Вызвать функцию print() и передать туда строку Hello, World! </i>"
   ]
  },
  {
   "cell_type": "code",
   "execution_count": 11,
   "id": "caring-truck",
   "metadata": {
    "colab": {
     "base_uri": "https://localhost:8080/"
    },
    "executionInfo": {
     "elapsed": 4,
     "status": "ok",
     "timestamp": 1676307653367,
     "user": {
      "displayName": "Guselnikov Georgii",
      "userId": "04841276425382143684"
     },
     "user_tz": -180
    },
    "id": "caring-truck",
    "outputId": "707593df-605e-4d75-c0f3-a8575a3eebf0",
    "scrolled": true
   },
   "outputs": [
    {
     "name": "stdout",
     "output_type": "stream",
     "text": [
      "Hello, World!\n"
     ]
    }
   ],
   "source": [
    "print(\"Hello, World!\")"
   ]
  },
  {
   "cell_type": "markdown",
   "id": "maritime-conversation",
   "metadata": {
    "id": "maritime-conversation"
   },
   "source": [
    "### Задание №2\n",
    "Написать генератор случайных матриц(многомерных), который принимает\n",
    "опциональные параметры <b>m</b>, <b>n</b>, <b>min_limit</b>, <b>max_limit</b>, где <b>m</b> и <b>n</b> указывают размер\n",
    "матрицы, а <b>min_lim</b> и <b>max_lim</b> - минимальное и максимальное значение для\n",
    "генерируемого числа."
   ]
  },
  {
   "cell_type": "code",
   "execution_count": 12,
   "id": "built-contact",
   "metadata": {
    "executionInfo": {
     "elapsed": 4,
     "status": "ok",
     "timestamp": 1676307634377,
     "user": {
      "displayName": "Guselnikov Georgii",
      "userId": "04841276425382143684"
     },
     "user_tz": -180
    },
    "id": "built-contact"
   },
   "outputs": [],
   "source": [
    "import random\n",
    "import time"
   ]
  },
  {
   "cell_type": "code",
   "execution_count": 13,
   "id": "alert-charm",
   "metadata": {
    "colab": {
     "base_uri": "https://localhost:8080/"
    },
    "executionInfo": {
     "elapsed": 16559,
     "status": "ok",
     "timestamp": 1676307652556,
     "user": {
      "displayName": "Guselnikov Georgii",
      "userId": "04841276425382143684"
     },
     "user_tz": -180
    },
    "id": "alert-charm",
    "outputId": "c3328b2b-3d98-46ff-c529-6c23985b4e2d"
   },
   "outputs": [
    {
     "name": "stdout",
     "output_type": "stream",
     "text": [
      "Число строк: 10\n",
      "Число столбцов: 5000\n",
      "Минимальный элемент: 0\n",
      "Максимальный элемент: 100\n"
     ]
    }
   ],
   "source": [
    "user_m = int(input(\"Число строк: \"))\n",
    "user_n = int(input(\"Число столбцов: \"))\n",
    "user_min_limit = int(input(\"Минимальный элемент: \"))\n",
    "user_max_limit = int(input(\"Максимальный элемент: \"))\n",
    "matrix = [[random.randint(user_min_limit, user_max_limit) for i in range(user_n)] for j in range(user_m)]"
   ]
  },
  {
   "cell_type": "markdown",
   "id": "catholic-roots",
   "metadata": {
    "id": "catholic-roots"
   },
   "source": [
    "### Задание №3\n",
    "Реализовать методы сортировки строк числовой матрицы в соответствии с\n",
    "заданием. Оценить время работы каждого алгоритма сортировки и сравнить его со\n",
    "временем стандартной функции сортировки. Испытания проводить на сгенерированных\n",
    "матрицах."
   ]
  },
  {
   "cell_type": "code",
   "execution_count": 14,
   "id": "opposed-creature",
   "metadata": {
    "executionInfo": {
     "elapsed": 819,
     "status": "ok",
     "timestamp": 1676307657022,
     "user": {
      "displayName": "Guselnikov Georgii",
      "userId": "04841276425382143684"
     },
     "user_tz": -180
    },
    "id": "opposed-creature"
   },
   "outputs": [],
   "source": [
    "import copy"
   ]
  },
  {
   "cell_type": "code",
   "execution_count": 15,
   "id": "cleared-anniversary",
   "metadata": {
    "colab": {
     "base_uri": "https://localhost:8080/"
    },
    "executionInfo": {
     "elapsed": 743,
     "status": "ok",
     "timestamp": 1676307659110,
     "user": {
      "displayName": "Guselnikov Georgii",
      "userId": "04841276425382143684"
     },
     "user_tz": -180
    },
    "id": "cleared-anniversary",
    "outputId": "dbee5069-8a44-4630-aab6-b7428136b8da"
   },
   "outputs": [
    {
     "name": "stdout",
     "output_type": "stream",
     "text": [
      "--- 36426 ms ---\n"
     ]
    }
   ],
   "source": [
    "from re import I\n",
    "# Сортировка выбором.\n",
    "# Берётся срез массива, в котором минимальный элемент переносят в самый левый угол,\n",
    "# после чего срез уменьшается и цикл повторяется.\n",
    "start_time = time.time()\n",
    "#TODO\n",
    "for k in range(user_m):\n",
    "  a = copy.copy(matrix[k])\n",
    "  for i in range(len(a) - 1):\n",
    "        min = i\n",
    "        for j in range(i + 1, len(a)):\n",
    "            if a[j] < a[min]:\n",
    "                min = j\n",
    "        a[i], a[min] = a[min], a[i]\n",
    "        \n",
    "print(\"--- {0} ms ---\".format(round((time.time() - start_time)*1000)))"
   ]
  },
  {
   "cell_type": "code",
   "execution_count": 16,
   "id": "roman-silly",
   "metadata": {
    "colab": {
     "base_uri": "https://localhost:8080/"
    },
    "executionInfo": {
     "elapsed": 4,
     "status": "ok",
     "timestamp": 1676307661928,
     "user": {
      "displayName": "Guselnikov Georgii",
      "userId": "04841276425382143684"
     },
     "user_tz": -180
    },
    "id": "roman-silly",
    "outputId": "b198896e-43a4-4cef-a8e5-a07103d32de1",
    "scrolled": true
   },
   "outputs": [
    {
     "name": "stdout",
     "output_type": "stream",
     "text": [
      "--- 54657 ms ---\n"
     ]
    }
   ],
   "source": [
    "# Сортировка вставкой.\n",
    "start_time = time.time()\n",
    "#TODO\n",
    "for k in range(user_m):\n",
    "  a = copy.copy(matrix[k])\n",
    "  for i in range(1, len(a)):\n",
    "    for j in range(i, 0, -1):\n",
    "      if a[j] < a[j-1]:\n",
    "        a[j], a[j-1] = a[j-1], a[j]\n",
    "      else:\n",
    "        break\n",
    "  \n",
    "print(\"--- {0} ms ---\".format(round((time.time() - start_time)*1000)))"
   ]
  },
  {
   "cell_type": "code",
   "execution_count": 17,
   "id": "vital-implementation",
   "metadata": {
    "colab": {
     "base_uri": "https://localhost:8080/"
    },
    "executionInfo": {
     "elapsed": 286,
     "status": "ok",
     "timestamp": 1676307664517,
     "user": {
      "displayName": "Guselnikov Georgii",
      "userId": "04841276425382143684"
     },
     "user_tz": -180
    },
    "id": "vital-implementation",
    "outputId": "9026039f-97be-407d-a2d0-41b0e0a82602"
   },
   "outputs": [
    {
     "name": "stdout",
     "output_type": "stream",
     "text": [
      "--- 71689 ms ---\n"
     ]
    }
   ],
   "source": [
    "# Сортировка обменом. || Сортировка пузырьком.\n",
    "start_time = time.time()\n",
    "#TODO\n",
    "for k in range(user_m):\n",
    "  a = copy.copy(matrix[k])\n",
    "  for i in range(len(a)-1):\n",
    "    for j in range(len(a)-1-i):\n",
    "      if a[j] > a[j+1]:\n",
    "        a[j], a[j+1] = a[j+1], a[j]\n",
    "print(\"--- {0} ms ---\".format(round((time.time() - start_time)*1000)))"
   ]
  },
  {
   "cell_type": "code",
   "execution_count": 18,
   "id": "veterinary-glory",
   "metadata": {
    "colab": {
     "base_uri": "https://localhost:8080/"
    },
    "executionInfo": {
     "elapsed": 277,
     "status": "ok",
     "timestamp": 1676307666804,
     "user": {
      "displayName": "Guselnikov Georgii",
      "userId": "04841276425382143684"
     },
     "user_tz": -180
    },
    "id": "veterinary-glory",
    "outputId": "6b2b5cdc-afa8-49d0-e307-64f7c5ab92da"
   },
   "outputs": [
    {
     "name": "stdout",
     "output_type": "stream",
     "text": [
      "--- 683 ms ---\n"
     ]
    }
   ],
   "source": [
    "# Сортировка Шелла.\n",
    "start_time = time.time()\n",
    "#TODO\n",
    "for k in range(user_m):\n",
    "  a = copy.copy(matrix[k])\n",
    "  gap = len(a) // 2\n",
    "  while gap > 0:\n",
    "    for i in range(gap, len(a)):\n",
    "      cur_val = a[i]\n",
    "      pos = i\n",
    "      while pos >= gap and a[pos - gap] > cur_val:\n",
    "        a[pos] = a[pos - gap]\n",
    "        pos -= gap\n",
    "        a[pos] = cur_val\n",
    "    gap //= 2\n",
    "  \n",
    "print(\"--- {0} ms ---\".format(round((time.time() - start_time)*1000)))"
   ]
  },
  {
   "cell_type": "code",
   "execution_count": 19,
   "id": "correct-chaos",
   "metadata": {
    "colab": {
     "base_uri": "https://localhost:8080/"
    },
    "executionInfo": {
     "elapsed": 272,
     "status": "ok",
     "timestamp": 1676309258290,
     "user": {
      "displayName": "Guselnikov Georgii",
      "userId": "04841276425382143684"
     },
     "user_tz": -180
    },
    "id": "correct-chaos",
    "outputId": "bcf80f75-d133-49da-aaab-29cdbda2a8b6"
   },
   "outputs": [
    {
     "name": "stdout",
     "output_type": "stream",
     "text": [
      "--- 150 ms ---\n"
     ]
    }
   ],
   "source": [
    "# Быстрая сортировка.\n",
    "start_time = time.time()\n",
    "#TODO\n",
    "def quick_sort(a):\n",
    "  if len(a) <= 1:\n",
    "    return a\n",
    "  \n",
    "  greater = []\n",
    "  equal = []\n",
    "  lesser = []\n",
    "  for i in range(len(a)):\n",
    "    if a[i] == a[0]:\n",
    "      equal.append(a[i])\n",
    "    elif a[i] > a[0]:\n",
    "      greater.append(a[i])\n",
    "    else:\n",
    "      lesser.append(a[i])\n",
    "  return quick_sort(lesser) + equal + quick_sort(greater)\n",
    "\n",
    "for k in range(user_m):\n",
    "  a = copy.copy(matrix[k])\n",
    "  quick_sort(a)\n",
    "\n",
    "print(\"--- {0} ms ---\".format(round((time.time() - start_time)*1000)))\n",
    "    "
   ]
  },
  {
   "cell_type": "code",
   "execution_count": 20,
   "id": "french-czech",
   "metadata": {
    "colab": {
     "base_uri": "https://localhost:8080/"
    },
    "executionInfo": {
     "elapsed": 251,
     "status": "ok",
     "timestamp": 1676307678046,
     "user": {
      "displayName": "Guselnikov Georgii",
      "userId": "04841276425382143684"
     },
     "user_tz": -180
    },
    "id": "french-czech",
    "outputId": "14952a1d-d552-4c61-e635-a29f7e933174"
   },
   "outputs": [
    {
     "name": "stdout",
     "output_type": "stream",
     "text": [
      "--- 586 ms ---\n"
     ]
    }
   ],
   "source": [
    "# Турнирная сортировка.\n",
    "start_time = time.time()\n",
    "#TODO\n",
    "def heapify(a, n, i):\n",
    "  max = i\n",
    "  left = 2*i+1\n",
    "  right = 2*i+2\n",
    "  if left < n and a[i] < a[left]:\n",
    "    max = left\n",
    "  if right < n and a[max] < a[right]:\n",
    "    max = right\n",
    "  \n",
    "  if max != i:\n",
    "    a[i], a[max] = a[max], a[i]\n",
    "    heapify(a, n, max)\n",
    "\n",
    "for k in range(user_m):\n",
    "  a = copy.copy(matrix[k])\n",
    "  for i in range(len(a)//2, -1, -1):\n",
    "    heapify(a, len(a), i)\n",
    "  for i in range(len(a)-1, 0, -1):\n",
    "    a[i], a[0] = a[0], a[i]\n",
    "    heapify(a, i, 0)\n",
    "\n",
    "\n",
    "print(\"--- {0} ms ---\".format(round((time.time() - start_time)*1000)))"
   ]
  },
  {
   "cell_type": "markdown",
   "id": "rental-jerusalem",
   "metadata": {
    "id": "rental-jerusalem"
   },
   "source": [
    "### Вывод\n"
   ]
  },
  {
   "cell_type": "markdown",
   "id": "9d108a0a",
   "metadata": {
    "id": "9d108a0a"
   },
   "source": [
    "Был реализован генератор матриц, а также были реализованы различные алгоритмы сортировки. Проект был загружен на Github: https://github.com/GuselnikovGeorgiy/structions-and-algorithms/tree/master/lab1\n"
   ]
  }
 ],
 "metadata": {
  "colab": {
   "provenance": [
    {
     "file_id": "1KXNYNsyyx8RMEyHLNCtZntFPe-QpIhkx",
     "timestamp": 1675855606917
    }
   ]
  },
  "kernelspec": {
   "display_name": "Python 3 (ipykernel)",
   "language": "python",
   "name": "python3"
  },
  "language_info": {
   "codemirror_mode": {
    "name": "ipython",
    "version": 3
   },
   "file_extension": ".py",
   "mimetype": "text/x-python",
   "name": "python",
   "nbconvert_exporter": "python",
   "pygments_lexer": "ipython3",
   "version": "3.9.13"
  }
 },
 "nbformat": 4,
 "nbformat_minor": 5
}
