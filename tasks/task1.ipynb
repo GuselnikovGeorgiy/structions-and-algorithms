{
 "cells": [
  {
   "cell_type": "markdown",
   "id": "3dbc11f3",
   "metadata": {},
   "source": [
    "# Контрольные задачи по СиАОД №1\n",
    "## Выполнил студент группы БСТ2105 Гусельников. Г. М.\n",
    "\n",
    "### Задание 1 \"Треугольник с максимальным периметром\""
   ]
  },
  {
   "cell_type": "code",
   "execution_count": 1,
   "id": "115be147",
   "metadata": {},
   "outputs": [],
   "source": [
    "def findMaxP(sides: list) -> float:\n",
    "    sides.sort(reverse=True)\n",
    "    for i in range(len(sides)-2):\n",
    "        if sides[i] < sides[i+1] + sides[i+2]: # проверяем условие треугольника\n",
    "            return sides[i] + sides[i+1] + sides[i+2]\n",
    "    return 0"
   ]
  },
  {
   "cell_type": "code",
   "execution_count": 4,
   "id": "4d528c95",
   "metadata": {},
   "outputs": [
    {
     "name": "stdout",
     "output_type": "stream",
     "text": [
      "5\n",
      "10\n",
      "0\n",
      "8\n",
      "8.2\n"
     ]
    }
   ],
   "source": [
    "print(findMaxP([2, 1, 2]))\n",
    "print(findMaxP([3, 2, 3, 4]))\n",
    "print(findMaxP([1, 1, 2]))\n",
    "print(findMaxP([3, 6, 2, 3]))\n",
    "print(findMaxP([3.2, 6.9, 2, 3]))"
   ]
  },
  {
   "cell_type": "markdown",
   "id": "736cd19a",
   "metadata": {},
   "source": [
    "### Задание 2 \"Образовать максимальное число\""
   ]
  },
  {
   "cell_type": "code",
   "execution_count": 5,
   "id": "01937164",
   "metadata": {},
   "outputs": [],
   "source": [
    "def maxNum(nums: list) -> str:\n",
    "    nums = list(map(str, nums))\n",
    "    nums.sort(reverse=True) # лексикографическая сортировка\n",
    "    return ''.join(nums)"
   ]
  },
  {
   "cell_type": "code",
   "execution_count": 6,
   "id": "46ebc231",
   "metadata": {},
   "outputs": [
    {
     "name": "stdout",
     "output_type": "stream",
     "text": [
      "93452823123\n"
     ]
    }
   ],
   "source": [
    "print(maxNum([123, 345, 9, 23, 28]))"
   ]
  },
  {
   "cell_type": "markdown",
   "id": "e700b0e9",
   "metadata": {},
   "source": [
    "### Задание 3 \"Сортировка диагоналей в матрице\""
   ]
  },
  {
   "cell_type": "code",
   "execution_count": 16,
   "id": "39d15950",
   "metadata": {},
   "outputs": [],
   "source": [
    "def sortDiagonals(matrix: list[list]) -> list[list]:\n",
    "    diagonals = {} # ключ i-j: значение лист\n",
    "    # Получение диагоналей из матрицы\n",
    "    for i in range(len(matrix)):\n",
    "        for j in range(len(matrix[0])):\n",
    "            index = i-j\n",
    "            if index not in diagonals:\n",
    "                diagonals[index] = []\n",
    "            diagonals[index].append(matrix[i][j])\n",
    "    print('Диагонали: ', diagonals)\n",
    "    # Сортировка диагоналей\n",
    "    for index in diagonals:\n",
    "        diagonals[index].sort(reverse=True) # в обратном порядке чтобы доставать через pop()\n",
    "    # Запись в матрицу\n",
    "    for i in range(len(matrix)):\n",
    "        for j in range(len(matrix[0])):\n",
    "            index = i-j\n",
    "            matrix[i][j] = diagonals[index].pop()\n",
    "    return matrix\n",
    "\n",
    "\n",
    "def printMatrix(matrix: list[list]):\n",
    "    for i in range(len(matrix)):\n",
    "        print(' '.join(str(i) for i in matrix[i])) "
   ]
  },
  {
   "cell_type": "code",
   "execution_count": 19,
   "id": "242dccf3",
   "metadata": {},
   "outputs": [
    {
     "name": "stdout",
     "output_type": "stream",
     "text": [
      "3 3 1 1\n",
      "2 2 1 2\n",
      "1 1 1 2\n",
      "Диагонали:  {0: [3, 2, 1], -1: [3, 1, 2], -2: [1, 2], -3: [1], 1: [2, 1], 2: [1]}\n",
      "1 1 1 1\n",
      "1 2 2 2\n",
      "1 2 3 3\n"
     ]
    }
   ],
   "source": [
    "mat =  [[3, 3, 1, 1], [2, 2, 1, 2], [1, 1, 1, 2]]\n",
    "printMatrix(mat)\n",
    "printMatrix(sortDiagonals(mat))"
   ]
  }
 ],
 "metadata": {
  "kernelspec": {
   "display_name": "Python 3 (ipykernel)",
   "language": "python",
   "name": "python3"
  },
  "language_info": {
   "codemirror_mode": {
    "name": "ipython",
    "version": 3
   },
   "file_extension": ".py",
   "mimetype": "text/x-python",
   "name": "python",
   "nbconvert_exporter": "python",
   "pygments_lexer": "ipython3",
   "version": "3.9.13"
  }
 },
 "nbformat": 4,
 "nbformat_minor": 5
}
