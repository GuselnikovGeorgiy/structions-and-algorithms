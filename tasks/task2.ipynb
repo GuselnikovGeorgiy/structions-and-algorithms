{
 "cells": [
  {
   "cell_type": "markdown",
   "id": "ac5ad6ad",
   "metadata": {},
   "source": [
    "# Контрольные задачи по СиАОД №2\n",
    "## Выполнил студент группы БСТ2105 Гусельников. Г. М.\n",
    "\n",
    "### Задание 1 \"Сравнение строк\""
   ]
  },
  {
   "cell_type": "code",
   "execution_count": 10,
   "id": "3dd19f93",
   "metadata": {},
   "outputs": [],
   "source": [
    "def check_win(s1: str, s2: str) -> bool:\n",
    "    s1, s2 = sorted(s1), sorted(s2)\n",
    "    s1_win = True\n",
    "    \n",
    "    for i in range(len(s1)):\n",
    "        if s1[i] < s2[i]:\n",
    "            s1_win = False\n",
    "            break\n",
    "            \n",
    "    s2_win = True\n",
    "    for i in range(len(s1)):\n",
    "        if s2[i] < s1[i]:\n",
    "            s2_win = False\n",
    "            break\n",
    "    \n",
    "    if not (s1_win ^ s2_win):\n",
    "        print('s1, s2: draw')\n",
    "    elif s1_win:\n",
    "        print('s1: won')\n",
    "    else:\n",
    "        print('s2: won')\n",
    "    "
   ]
  },
  {
   "cell_type": "code",
   "execution_count": 11,
   "id": "c27f33a4",
   "metadata": {},
   "outputs": [
    {
     "name": "stdout",
     "output_type": "stream",
     "text": [
      "s1: won\n",
      "s2: won\n",
      "s1, s2: draw\n"
     ]
    }
   ],
   "source": [
    "check_win('aaab', 'aaaa')\n",
    "check_win('abc', 'xya')\n",
    "check_win('abe', 'acd')"
   ]
  },
  {
   "cell_type": "markdown",
   "id": "984fc90c",
   "metadata": {},
   "source": [
    "### Задание 2 \"Максимальная палиндромная подстрока\""
   ]
  },
  {
   "cell_type": "code",
   "execution_count": 16,
   "id": "e1a80670",
   "metadata": {},
   "outputs": [],
   "source": [
    "def longest_palindrome(s):\n",
    "    longest =\" \"\n",
    "    for i in range(len(s)):\n",
    "        for j in range(i+1, len(s) + 1):\n",
    "            substr = s[i:j]\n",
    "\n",
    "            if substr  == substr[::-1] and len(substr) > len(longest):\n",
    "                longest = substr\n",
    "\n",
    "    return longest"
   ]
  },
  {
   "cell_type": "code",
   "execution_count": 17,
   "id": "402ac09b",
   "metadata": {},
   "outputs": [
    {
     "name": "stdout",
     "output_type": "stream",
     "text": [
      "bb\n",
      "bab\n",
      "asddsa\n"
     ]
    }
   ],
   "source": [
    "print(longest_palindrome('cbbd'))\n",
    "print(longest_palindrome('babadam'))\n",
    "print(longest_palindrome('asddsad'))"
   ]
  },
  {
   "cell_type": "markdown",
   "id": "cb82344b",
   "metadata": {},
   "source": [
    "### Задание 3 \"Максимальная подстрока с конкатенацией\""
   ]
  },
  {
   "cell_type": "code",
   "execution_count": 52,
   "id": "fcc287c9",
   "metadata": {},
   "outputs": [],
   "source": [
    "def count_concatenated_substrings(s):\n",
    "    res = set()\n",
    "    for i in range(len(s)):\n",
    "        j = i\n",
    "        while j < len(s) and len(s[i:j + 1] * 2) <= len(s):\n",
    "            string1 = s[i:j + 1] * 2\n",
    "            string2 = s[i:i + len(string1)]\n",
    "            if string1 == string2:\n",
    "                res.update({string1})\n",
    "            j += 1\n",
    "    return len(res)"
   ]
  },
  {
   "cell_type": "code",
   "execution_count": 55,
   "id": "2f9ef1d4",
   "metadata": {},
   "outputs": [
    {
     "name": "stdout",
     "output_type": "stream",
     "text": [
      "1\n",
      "2\n",
      "3\n"
     ]
    }
   ],
   "source": [
    "print(count_concatenated_substrings('abab')) #ab\n",
    "print(count_concatenated_substrings('ababa')) #ab, ba\n",
    "print(count_concatenated_substrings('abcabcabc')) #abc, bca, cab"
   ]
  }
 ],
 "metadata": {
  "kernelspec": {
   "display_name": "Python 3 (ipykernel)",
   "language": "python",
   "name": "python3"
  },
  "language_info": {
   "codemirror_mode": {
    "name": "ipython",
    "version": 3
   },
   "file_extension": ".py",
   "mimetype": "text/x-python",
   "name": "python",
   "nbconvert_exporter": "python",
   "pygments_lexer": "ipython3",
   "version": "3.9.13"
  }
 },
 "nbformat": 4,
 "nbformat_minor": 5
}
