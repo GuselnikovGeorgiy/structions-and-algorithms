{
 "cells": [
  {
   "cell_type": "markdown",
   "id": "5b210283",
   "metadata": {},
   "source": [
    "# Лабораторная работа №5\n",
    "## Выполнил студент группы ФИО ГРУППА"
   ]
  },
  {
   "cell_type": "code",
   "execution_count": 2,
   "id": "51d85395",
   "metadata": {},
   "outputs": [],
   "source": [
    "#Дополнительные модули, использованные при выполнение лабораторной\n",
    "# Необходим при замере скорости выполнения кода\n",
    "import time\n",
    "# Нужен для создания словаря в алг. Бойера-Мура\n",
    "from collections import defaultdict"
   ]
  },
  {
   "cell_type": "markdown",
   "id": "c96b3f22",
   "metadata": {},
   "source": [
    "### Задание №1\n",
    "Реализовать методы поиска подстроки в строке. Добавить возможность ввода строки и подстроки с клавиатуры. Предусмотреть возможность существования пробела. Реализовать возможность выбора опции чувствительности или нечувствительности к регистру. Оценить время работы каждого алгоритма поиска и сравнить его со временем работы стандартной функции поиска, используемой в выбранном языке программирования."
   ]
  },
  {
   "cell_type": "markdown",
   "id": "49c6f72b",
   "metadata": {},
   "source": [
    "### Алгоритм Кнута-Морриса-Пратта"
   ]
  },
  {
   "cell_type": "code",
   "execution_count": 3,
   "id": "0d4b359c",
   "metadata": {},
   "outputs": [],
   "source": [
    "def KMP(text: str, pattern: str, ignore_сase=False) -> bool:\n",
    "    if ignore_сase:\n",
    "        text = text.lower()\n",
    "        pattern = pattern.lower()\n",
    "    t = len(text)\n",
    "    p = len(pattern)\n",
    "    if p > t:\n",
    "        return False\n",
    "    # массив содержащий максимальные длины суффиксов для каждого элемента в подстроке\n",
    "    max_suffix = [0]*p\n",
    "    j = 0\n",
    "    for i in range(1, p-1):\n",
    "        if pattern[j] == pattern[i]:\n",
    "            max_suffix[i] = j+1\n",
    "            j += 1\n",
    "        else:\n",
    "            if j == 0:\n",
    "                max_suffix[i] = 0\n",
    "            else:\n",
    "                j = max_suffix[j-1]\n",
    "    i, j = 0, 0 # i - итератор по тексту, j - итератор по подстроке\n",
    "    while i < t:\n",
    "        if text[i] == pattern[j]:\n",
    "            i += 1\n",
    "            j += 1\n",
    "            if j == p:\n",
    "                return True # подстрока найдена\n",
    "        else:\n",
    "            if j > 0:\n",
    "                j = max_suffix[j-1]\n",
    "            else:\n",
    "                i += 1\n",
    "    if i == t and j != p:\n",
    "        return False    "
   ]
  },
  {
   "cell_type": "code",
   "execution_count": 4,
   "id": "eda59a0b",
   "metadata": {},
   "outputs": [
    {
     "name": "stdout",
     "output_type": "stream",
     "text": [
      "Подстрока для поиска: Массив\n",
      "Ингорировать регистр (True/False): false\n",
      "Подстрока найдена\n"
     ]
    }
   ],
   "source": [
    "pattern, options = input(\"Подстрока для поиска: \"), bool(input(\"Ингорировать регистр (True/False): \").title())\n",
    "with open(\"sources/0.txt\", \"r\", encoding=\"utf-8\") as f:\n",
    "    data = f.read()\n",
    "if KMP(data, pattern, options):\n",
    "    print(\"Подстрока найдена\")\n",
    "else:\n",
    "    print(\"Подстрока не найдена\")"
   ]
  },
  {
   "cell_type": "markdown",
   "id": "6bcbb082",
   "metadata": {},
   "source": [
    "### Упрощенный алгоритм Бойера-Мура"
   ]
  },
  {
   "cell_type": "code",
   "execution_count": 5,
   "id": "4c2c1036",
   "metadata": {},
   "outputs": [],
   "source": [
    "def BM(text: str, pattern: str, ignore_сase=False) -> bool:\n",
    "    # значение по умолчанию для смещения, если буква отсутствует в паттерне\n",
    "    def default_value():\n",
    "        return len(pattern) \n",
    "    \n",
    "    if ignore_сase:\n",
    "        text = text.lower()\n",
    "        pattern = pattern.lower()\n",
    "    t = len(text)\n",
    "    p = len(pattern)\n",
    "    if p > t:\n",
    "        return False\n",
    "    d = defaultdict(default_value) # словарь смещений\n",
    "    #заполнение словаря смещений\n",
    "    for i in range(p-2, -1, -1):\n",
    "        if pattern[i] not in d:\n",
    "            d[pattern[i]] = p-i-1\n",
    "    if pattern[p-1] not in d:\n",
    "        d[pattern[p-1]] = p\n",
    "    i = p-1 # счетчик проверяемого символа в тексте\n",
    "    while(i < t):\n",
    "        k = 0 # указатель внутри текста k = [0, len(text)-1], охватывает предыдущие символы в тексте\n",
    "        j = 0 # указатель внутри паттерна\n",
    "        mismatch = False\n",
    "        for j in range(p-1, -1, -1): \n",
    "            if text[i-k] != pattern[j]:\n",
    "                if j == p-1:\n",
    "                    offset = d[text[i]] # смещение, если не равен последний символ образа\n",
    "                else:\n",
    "                    offset = d[pattern[j]] # смещение, если не равен не последний символ образа\n",
    "                i += offset # смещение счетчика строки\n",
    "                mismatch = True # если несовпадение символа, то mismatch = True\n",
    "                break\n",
    "            k += 1\n",
    "        if not mismatch:\n",
    "            return True\n",
    "    return False"
   ]
  },
  {
   "cell_type": "code",
   "execution_count": 6,
   "id": "b94cbe30",
   "metadata": {
    "scrolled": true
   },
   "outputs": [
    {
     "name": "stdout",
     "output_type": "stream",
     "text": [
      "Подстрока для поиска: решение\n",
      "Ингорировать регистр (True/False): true\n",
      "Подстрока найдена\n"
     ]
    }
   ],
   "source": [
    "pattern, options = input(\"Подстрока для поиска: \"), bool(input(\"Ингорировать регистр (True/False): \").title())\n",
    "with open(\"sources/0.txt\", \"r\", encoding=\"utf-8\") as f:\n",
    "    data = f.read()\n",
    "if BM(data, pattern, options):\n",
    "    print(\"Подстрока найдена\")\n",
    "else:\n",
    "    print(\"Подстрока не найдена\")"
   ]
  },
  {
   "cell_type": "code",
   "execution_count": null,
   "id": "a1f66805",
   "metadata": {},
   "outputs": [],
   "source": [
    "texts = []\n",
    "for i in range(0,6):\n",
    "with open(f\"sources/{i}.txt\", \"r\", encoding=\"utf-8\") as f:\n",
    "    texts.append(f.read())\n",
    "KMP_time, BM_time, Python_time = [], [], []\n",
    "for text in texts:\n",
    "    "
   ]
  },
  {
   "cell_type": "markdown",
   "id": "24750e90",
   "metadata": {},
   "source": [
    "### Задание №2\n",
    "Написать программу, определяющую, является ли данное\n",
    "расположение «решаемым», то есть можно ли из него за конечное число\n",
    "шагов перейти к правильному. Если это возможно, то необходимо найти хотя\n",
    "бы одно решение - последовательность движений, после которой числа будут\n",
    "расположены в правильном порядке.\n",
    "#### Входные данные: массив чисел, представляющий собой расстановку в\n",
    "Порядке «слева направо, сверху вниз». Число 0 обозначает пустое поле.\n",
    "Например, массив [1, 2, 3, 4, 5, 6, 7, 8, 9, 10, 11, 12, 13, 14, 15, 0] представляет\n",
    "собой «решенную» позицию элементов.\n",
    "#### Выходные данные: если решения нет, то функция должна вернуть\n",
    "Пустой массив []. Если решение есть, то необходимо представить решение —\n",
    "для каждого шага записывается номер передвигаемого на данном шаге\n",
    "элемента. "
   ]
  },
  {
   "cell_type": "code",
   "execution_count": null,
   "id": "a8e86fee",
   "metadata": {},
   "outputs": [],
   "source": []
  }
 ],
 "metadata": {
  "kernelspec": {
   "display_name": "Python 3 (ipykernel)",
   "language": "python",
   "name": "python3"
  },
  "language_info": {
   "codemirror_mode": {
    "name": "ipython",
    "version": 3
   },
   "file_extension": ".py",
   "mimetype": "text/x-python",
   "name": "python",
   "nbconvert_exporter": "python",
   "pygments_lexer": "ipython3",
   "version": "3.9.13"
  }
 },
 "nbformat": 4,
 "nbformat_minor": 5
}
