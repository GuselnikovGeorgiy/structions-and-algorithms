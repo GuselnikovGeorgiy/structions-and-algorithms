{
 "cells": [
  {
   "cell_type": "markdown",
   "id": "fifteen-sailing",
   "metadata": {
    "id": "fifteen-sailing"
   },
   "source": [
    "# Лабораторная работа №2\n",
    "## Выполнил студент группы Гусельников Г.М."
   ]
  },
  {
   "cell_type": "markdown",
   "id": "arctic-stocks",
   "metadata": {
    "id": "arctic-stocks"
   },
   "source": [
    "Реализовать следующие структуры данных:\n",
    "  \n",
    "● <b> Стек (stack): </b>  \n",
    "Операции для стека: \n",
    "<i> инициализация, проверка на пустоту, добавление нового элемента в начало, извлечение элемента из начала;  </i>  \n",
    "  \n",
    "● <b> Дек (двусторонняя очередь, deque):  </b>  \n",
    "Операции для дека: \n",
    "<i> инициализация, проверка на пустоту, добавление нового элемента в начало, добавление нового элемента в конец, извлечение элемента из начала, извлечение элемента из конца. </i>  \n",
    "  \n",
    "<i> Разработать программу обработки данных, содержащихся в заранее подготовленном txt-файле, в соответствии с заданиями, применив указанную в задании структуру данных. Результат работы программы вывести на экран и сохранить в отдельном txt-файле. </i>"
   ]
  },
  {
   "cell_type": "markdown",
   "id": "5d7edb08",
   "metadata": {
    "id": "5d7edb08",
    "scrolled": true
   },
   "source": [
    "### Задание №1\n",
    "Отсортировать строки файла, содержащие названия книг, в алфавитном порядке с использованием двух деков."
   ]
  },
  {
   "cell_type": "code",
   "execution_count": 83,
   "id": "8e59a793",
   "metadata": {},
   "outputs": [],
   "source": [
    "from collections import deque"
   ]
  },
  {
   "cell_type": "code",
   "execution_count": 84,
   "id": "17702ade",
   "metadata": {
    "id": "17702ade"
   },
   "outputs": [
    {
     "name": "stdout",
     "output_type": "stream",
     "text": [
      "Исходный файл:\n",
      " Война и мир\n",
      " 1984\n",
      " Улисс\n",
      " Лолита\n",
      " Звук и ярость\n",
      " Человек-невидимка\n",
      " На маяк\n",
      " Илиада\n",
      " Одиссея\n",
      " Гордость и предубеждение\n",
      " Божественная комедия\n",
      " Кентерберийские рассказы\n",
      " Путешествия Гулливера\n",
      " Мидлмарч\n",
      " Распад\n",
      " Над пропастью во ржи\n",
      " \n",
      "\n",
      "Отсортированный файл: \n",
      " 1984\n",
      " Божественная комедия\n",
      " Война и мир\n",
      " Гордость и предубеждение\n",
      " Звук и ярость\n",
      " Илиада\n",
      " Кентерберийские рассказы\n",
      " Лолита\n",
      " Мидлмарч\n",
      " На маяк\n",
      " Над пропастью во ржи\n",
      " Одиссея\n",
      " Путешествия Гулливера\n",
      " Распад\n",
      " Улисс\n",
      " Человек-невидимка\n",
      "\n"
     ]
    }
   ],
   "source": [
    "deq1, deq2 = deque(), deque()\n",
    "with open(\"C:/Users/Goga/Desktop/1_i.txt\", \"r\", encoding=\"utf-8\") as readfile:\n",
    "    for line in readfile:\n",
    "        deq1.append(line)\n",
    "\n",
    "print(\"Исходный файл:\\n\",*deq1)        \n",
    "        \n",
    "while len(deq1) != 0:\n",
    "    x = deq1.pop()\n",
    "    while len(deq2) != 0 and deq2[-1] > x:\n",
    "        deq1.appendleft(deq2.pop())\n",
    "    deq2.append(x)\n",
    "    \n",
    "print(\"Отсортированный файл:\", *deq2)\n",
    "\n",
    "with open(\"C:/Users/Goga/Desktop/1_o.txt\", \"w\", encoding=\"utf-8\") as writefile:\n",
    "    for elem in deq2:\n",
    "        writefile.write(elem)"
   ]
  },
  {
   "cell_type": "markdown",
   "id": "4d9590e6",
   "metadata": {},
   "source": [
    "## Задание №2\n",
    "Дек содержит последовательность символов для шифровки сообщений. Дан текстовый файл, содержащий зашифрованное сообщение. Пользуясь деком, расшифровать текст. Известно, что при шифровке каждый символ сообщения заменялся следующим за ним в деке по часовой стрелке через один."
   ]
  },
  {
   "cell_type": "code",
   "execution_count": 88,
   "id": "81cab7a8",
   "metadata": {
    "id": "81cab7a8"
   },
   "outputs": [
    {
     "name": "stdout",
     "output_type": "stream",
     "text": [
      "Введите сообщение для шифровки: Дек содержит последовательность символов для шифровки сообщений.\n",
      "Зашифрованное сообщение:  ёжм урёжтикф срунжёрдвфжнюпруфю укодрнрд ёнб ъкцтрдмк урргыжпкл.\n"
     ]
    }
   ],
   "source": [
    "# encoding a message from keyboard and saving to file \n",
    "key = 2\n",
    "alphabet = list('абвгдеёжзийклмнопрстуфхцчшщъыьэюя')\n",
    "\n",
    "message, cipher = deque(), deque()\n",
    "\n",
    "for i in range(len(alphabet)):\n",
    "    cipher.append(alphabet[(i + key) % len(alphabet)])\n",
    "\n",
    "message = list(input(\"Введите сообщение для шифровки: \").lower())\n",
    "            \n",
    "res = \"\"\n",
    "for char in message:\n",
    "    if char in alphabet:\n",
    "        res += cipher[alphabet.index(char)]\n",
    "    else:\n",
    "        res += char\n",
    "\n",
    "print(\"Зашифрованное сообщение: \",res)\n",
    "\n",
    "with open(\"C:/Users/Goga/Desktop/2_i.txt\", \"w\", encoding=\"utf-8\") as writefile:\n",
    "    writefile.write(res)"
   ]
  },
  {
   "cell_type": "code",
   "execution_count": 89,
   "id": "6e0f53cc",
   "metadata": {},
   "outputs": [
    {
     "name": "stdout",
     "output_type": "stream",
     "text": [
      "Зашифрованное сообщение из файла: ёжм урёжтикф срунжёрдвфжнюпруфю укодрнрд ёнб ъкцтрдмк урргыжпкл.\n",
      "Расшифрованное сообщение: дек содержит последовательность символов для шифровки сообщений.\n"
     ]
    }
   ],
   "source": [
    "#opening a file with an encoded message, decoding the message and saving it to file\n",
    "key = 2\n",
    "alphabet = list('абвгдеёжзийклмнопрстуфхцчшщъыьэюя')\n",
    "\n",
    "message, cipher = deque(), deque()\n",
    "\n",
    "for i in range(len(alphabet)):\n",
    "    cipher.append(alphabet[(i + key) % len(alphabet)])\n",
    "\n",
    "with open(\"C:/Users/Goga/Desktop/2_i.txt\", \"r\", encoding=\"utf-8\") as readfile:\n",
    "    string = readfile.readline().lower()\n",
    "    for char in string:\n",
    "        if char != \"\\n\":\n",
    "            message.append(char)\n",
    "\n",
    "print(\"Зашифрованное сообщение из файла: \", *message, sep = \"\")\n",
    "            \n",
    "res = \"\"\n",
    "for char in message:\n",
    "    if char in alphabet:\n",
    "        res += alphabet[cipher.index(char)]\n",
    "    else:\n",
    "        res += char\n",
    "\n",
    "print(\"Расшифрованное сообщение:\", res)        \n",
    "    \n",
    "with open(\"C:/Users/Goga/Desktop/2_o.txt\", \"w\", encoding=\"utf-8\") as writefile:\n",
    "    writefile.write(res)  "
   ]
  },
  {
   "cell_type": "markdown",
   "id": "c0894f47",
   "metadata": {
    "id": "c0894f47"
   },
   "source": [
    "### Задание №3\n",
    "Даны три стержня и n дисков различного размера. Диски можно надевать на стержни, образуя из них башни. Перенести n дисков со стержня А на стержень С, сохранив их первоначальный порядок. При переносе дисков необходимо соблюдать следующие правила:\n",
    "- на каждом шаге со стержня на стержень переносить только один диск;\n",
    "- диск нельзя помещать на диск меньшего размера;\n",
    "- для промежуточного хранения можно использовать стержень В.\n",
    "Реализовать алгоритм, используя три стека вместо стержней А, В, С. Информация о дисках хранится в исходном файле."
   ]
  },
  {
   "cell_type": "code",
   "execution_count": 90,
   "id": "9e91a9d4",
   "metadata": {
    "id": "9e91a9d4"
   },
   "outputs": [
    {
     "name": "stdout",
     "output_type": "stream",
     "text": [
      "Количество дисков = 10\n",
      "[10, 9, 8, 7, 6, 5, 4, 3, 2, 1] [] []\n",
      "[] [] [10, 9, 8, 7, 6, 5, 4, 3, 2, 1]\n"
     ]
    }
   ],
   "source": [
    "n = int(input(\"Количество дисков = \"))\n",
    "A, B, C = [i for i in range(n,0,-1)], [], []\n",
    "\n",
    "print(A, B, C)\n",
    "\n",
    "def hanoi(n, start, tmp, end):\n",
    "    if n < 0:\n",
    "        return\n",
    "    hanoi(n-1, start, end, tmp)\n",
    "    if len(start)>0:\n",
    "        end.append(start.pop())\n",
    "    hanoi(n - 1, tmp, start, end)\n",
    "\n",
    "hanoi(n, A, B, C)\n",
    "print(A, B, C)"
   ]
  },
  {
   "cell_type": "markdown",
   "id": "e5b0be17",
   "metadata": {
    "id": "e5b0be17"
   },
   "source": [
    "### Задание №4\n",
    "Дан текстовый файл с программой на алгоритмическом языке. За один просмотр файла проверить баланс круглых скобок в тексте, используя стек."
   ]
  },
  {
   "cell_type": "code",
   "execution_count": 91,
   "id": "5b1df60a",
   "metadata": {
    "id": "5b1df60a"
   },
   "outputs": [
    {
     "name": "stdout",
     "output_type": "stream",
     "text": [
      "Success\n"
     ]
    }
   ],
   "source": [
    "stack = []\n",
    "flag = 1\n",
    "\n",
    "with open(\"C:/Users/Goga/Desktop/4_1.txt\", \"r\", encoding=\"utf-8\") as readfile:\n",
    "    for string in readfile:\n",
    "        for char in string:\n",
    "            if char == \"(\":\n",
    "                stack.append(char)\n",
    "            if char == \")\":\n",
    "                if len(stack) == 0:\n",
    "                    flag = 0\n",
    "                    break\n",
    "                stack.pop()\n",
    "                \n",
    "if len(stack) > 0:\n",
    "    flag = 0\n",
    "\n",
    "print(\"Success\" if flag else \"Error\")"
   ]
  },
  {
   "cell_type": "markdown",
   "id": "c44cdd6b",
   "metadata": {
    "id": "c44cdd6b"
   },
   "source": [
    "### Задание №5\n",
    "Дан текстовый файл с программой на алгоритмическом языке. За один просмотр файла проверить баланс квадратных скобок в тексте, используя дек."
   ]
  },
  {
   "cell_type": "code",
   "execution_count": 92,
   "id": "36b8f400",
   "metadata": {
    "id": "36b8f400"
   },
   "outputs": [
    {
     "name": "stdout",
     "output_type": "stream",
     "text": [
      "Error\n"
     ]
    }
   ],
   "source": [
    "deq = deque()\n",
    "flag = 1\n",
    "\n",
    "with open(\"C:/Users/Goga/Desktop/4_1.txt\", \"r\", encoding=\"utf-8\") as readfile:\n",
    "    for string in readfile:\n",
    "        for char in string:\n",
    "            if char == \"[\":\n",
    "                deq.append(char)\n",
    "            if char == \"]\":\n",
    "                if len(deq) == 0:\n",
    "                    flag = 0\n",
    "                    break\n",
    "                deq.pop()\n",
    "                \n",
    "if len(deq) > 0:\n",
    "    flag = 0\n",
    "\n",
    "print(\"Success\" if flag else \"Error\")"
   ]
  },
  {
   "cell_type": "markdown",
   "id": "59d13dc7",
   "metadata": {
    "id": "59d13dc7"
   },
   "source": [
    "### Задание №6\n",
    "Дан файл из символов. Используя стек, за один просмотр файла напечатать сначала все цифры, затем все буквы, и, наконец, все остальные символы, сохраняя исходный порядок в каждой группе символов."
   ]
  },
  {
   "cell_type": "code",
   "execution_count": 93,
   "id": "297e36c2",
   "metadata": {
    "id": "297e36c2"
   },
   "outputs": [
    {
     "name": "stdout",
     "output_type": "stream",
     "text": [
      "1984\n",
      "ВойнаимирУлиссЛолитаЗвукияростьЧеловекневидимкаНамаякИлиадаОдиссеяГордостьипредубеждениеБожественнаякомедияКентерберийскиерассказыПутешествияГулливераМидлмарчРаспадНадпропастьюворжи\n",
      "  \n",
      "\n",
      "\n",
      "\n",
      "  \n",
      "-\n",
      " \n",
      "\n",
      "\n",
      "  \n",
      " \n",
      " \n",
      " \n",
      "\n",
      "\n",
      "   \n",
      "\n",
      "\n"
     ]
    }
   ],
   "source": [
    "letters, numbers, others = [], [], []\n",
    "\n",
    "with open(\"C:/Users/Goga/Desktop/1_i.txt\", \"r\", encoding=\"utf-8\") as readfile:\n",
    "    for string in readfile:\n",
    "        for char in string:\n",
    "            if char.isalpha():\n",
    "                letters.append(char)\n",
    "            elif char.isdigit():\n",
    "                numbers.append(char)\n",
    "            else:\n",
    "                others.append(char)\n",
    "\n",
    "letters.reverse()\n",
    "numbers.reverse()\n",
    "others.reverse()\n",
    "\n",
    "res_n, res_l, res_o = \"\", \"\", \"\"\n",
    "\n",
    "while numbers:\n",
    "    res_n += numbers.pop()\n",
    "while letters:\n",
    "    res_l += letters.pop()\n",
    "while others:\n",
    "    res_o += others.pop()\n",
    "\n",
    "print(res_n, res_l, res_o, sep=\"\\n\")"
   ]
  },
  {
   "cell_type": "markdown",
   "id": "973f68bd",
   "metadata": {
    "id": "973f68bd"
   },
   "source": [
    "### Задание №7\n",
    "Дан файл из целых чисел. Используя дек, за один просмотр файла напечатать сначала все отрицательные числа, затем все положительные числа, сохраняя исходный порядок в каждой группе."
   ]
  },
  {
   "cell_type": "code",
   "execution_count": 94,
   "id": "c56fad66",
   "metadata": {
    "id": "c56fad66"
   },
   "outputs": [
    {
     "name": "stdout",
     "output_type": "stream",
     "text": [
      "-12 -3 -2 -4 5 13 4 8 9 19 0 66 "
     ]
    }
   ],
   "source": [
    "deq = deque()\n",
    "with open(\"C:/Users/Goga/Desktop/7.txt\", \"r\", encoding=\"utf-8\") as readfile:\n",
    "    s = map(int, readfile.readline().split())\n",
    "for n in s:\n",
    "    if n < 0:\n",
    "        deq.appendleft(n)\n",
    "    else:\n",
    "        deq.append(n)\n",
    "while deq:\n",
    "    x = deq.popleft()\n",
    "    if x < 0:\n",
    "        deq.append(x)\n",
    "    else:\n",
    "        deq.appendleft(x)\n",
    "        break\n",
    "while deq:\n",
    "    x = deq.pop()\n",
    "    if x < 0:\n",
    "        print(x, end = \" \")\n",
    "    else:\n",
    "        deq.append(x)\n",
    "        while deq:\n",
    "            print(deq.popleft(), end = \" \")\n",
    "        break"
   ]
  },
  {
   "cell_type": "markdown",
   "id": "b9228191",
   "metadata": {
    "id": "b9228191"
   },
   "source": [
    "### Задание №8\n",
    "Дан текстовый файл. Используя стек, сформировать новый текстовый файл, содержащий строки исходного файла, записанные в обратном порядке: первая строка становится последней, вторая – предпоследней и т.д."
   ]
  },
  {
   "cell_type": "code",
   "execution_count": 95,
   "id": "981fbdfe",
   "metadata": {
    "id": "981fbdfe"
   },
   "outputs": [],
   "source": [
    "stack = []\n",
    "with open(\"C:/Users/Goga/Desktop/1_i.txt\", \"r\", encoding=\"utf-8\") as readfile:\n",
    "    for string in readfile:\n",
    "        stack.append(string)\n",
    "        \n",
    "with open(\"C:/Users/Goga/Desktop/8.txt\", \"w\", encoding=\"utf-8\") as writefile:\n",
    "    while stack:\n",
    "        writefile.write(stack.pop())"
   ]
  },
  {
   "cell_type": "markdown",
   "id": "rental-jerusalem",
   "metadata": {
    "id": "rental-jerusalem"
   },
   "source": [
    "### Вывод\n"
   ]
  },
  {
   "cell_type": "markdown",
   "id": "0c2b8899",
   "metadata": {
    "id": "0c2b8899"
   },
   "source": []
  }
 ],
 "metadata": {
  "colab": {
   "provenance": []
  },
  "kernelspec": {
   "display_name": "Python 3 (ipykernel)",
   "language": "python",
   "name": "python3"
  },
  "language_info": {
   "codemirror_mode": {
    "name": "ipython",
    "version": 3
   },
   "file_extension": ".py",
   "mimetype": "text/x-python",
   "name": "python",
   "nbconvert_exporter": "python",
   "pygments_lexer": "ipython3",
   "version": "3.9.13"
  }
 },
 "nbformat": 4,
 "nbformat_minor": 5
}
