{
 "cells": [
  {
   "cell_type": "markdown",
   "id": "9567e3ca",
   "metadata": {},
   "source": [
    "# Лабораторная работа 4. Методы поиска.\n",
    "## Выполнил студент группы БСТ2105 Гусельников Г. М."
   ]
  },
  {
   "cell_type": "markdown",
   "id": "46e6f552",
   "metadata": {},
   "source": [
    "Реализовать методы поиска в соответствии с заданием. Организовать генерацию начального набора случайных данных. Для всех вариантов добавить реализацию добавления, поиска и удаления элементов. Оценить время работы каждого алгоритма поиска и сравнить его со временем работы стандартной функции поиска, используемой в выбранном языке программирования."
   ]
  },
  {
   "cell_type": "markdown",
   "id": "b6fa0be0",
   "metadata": {},
   "source": [
    "### Задание 1\n",
    "### Бинарный поиск"
   ]
  },
  {
   "cell_type": "code",
   "execution_count": 1,
   "id": "08623819",
   "metadata": {},
   "outputs": [],
   "source": [
    "import random\n",
    "import math\n",
    "import time\n",
    "import pandas as pd\n",
    "import matplotlib.pyplot as plt"
   ]
  },
  {
   "cell_type": "code",
   "execution_count": 9,
   "id": "8edbea2b",
   "metadata": {},
   "outputs": [],
   "source": [
    "def BinarySearch(ls: list, value: int) -> int:\n",
    "    middle = len(ls) // 2\n",
    "    left = 0\n",
    "    right = len(ls) - 1\n",
    "    while left < right and middle != value:\n",
    "        if value > ls[middle]:\n",
    "            left = middle + 1\n",
    "        else:\n",
    "            right = middle\n",
    "        middle = (left + right) // 2\n",
    "    return None if left > right else middle"
   ]
  },
  {
   "cell_type": "code",
   "execution_count": 11,
   "id": "e863334c",
   "metadata": {},
   "outputs": [
    {
     "name": "stdout",
     "output_type": "stream",
     "text": [
      "Enter length of list: N = 20\n",
      "[1, 8, 16, 23, 28, 28, 31, 40, 41, 54, 57, 70, 72, 73, 76, 84, 85, 90, 91, 97]\n",
      "Enter a value to search: 84\n",
      "ID of elem =  15\n"
     ]
    }
   ],
   "source": [
    "n = int(input(\"Enter length of list: N = \"))\n",
    "ls = [random.randint(1, 100) for _ in range(n)]\n",
    "ls.sort()\n",
    "print(ls)\n",
    "value = int(input(\"Enter a value to search: \"))\n",
    "print(\"ID of elem = \", BinarySearch(ls, value))"
   ]
  },
  {
   "cell_type": "markdown",
   "id": "015dd054",
   "metadata": {},
   "source": [
    "### Бинарное дерево"
   ]
  },
  {
   "cell_type": "code",
   "execution_count": 25,
   "id": "f1b98e61",
   "metadata": {},
   "outputs": [],
   "source": [
    "class Node:\n",
    "    def __init__(self, value):\n",
    "        self.value = value\n",
    "        self.left = None\n",
    "        self.right = None\n",
    "\n",
    "\n",
    "class BinaryTree:\n",
    "    def __init__(self):\n",
    "        self.root = None\n",
    "\n",
    "    def insert(self, value):\n",
    "        new_node = Node(value)  # Создание нового узла\n",
    "        if self.root is None:  # Если дерево пустое\n",
    "            self.root = new_node  # Новый узел становится корневым\n",
    "            return\n",
    "        current = self.root  # Текущий узел - корневой\n",
    "        while True:\n",
    "            if value < current.value:  # Если значение меньше значения текущего узла\n",
    "                if current.left is None:  # Если левый потомок отсутствует\n",
    "                    current.left = new_node  # Новый узел становится левым потомком текущего узла\n",
    "                    break\n",
    "                current = current.left  # Текущим узлом становится левый потомок текущего узла\n",
    "            else:  # Если значение больше или равно значению текущего узла\n",
    "                if current.right is None:  # Если правый потомок отсутствует\n",
    "                    current.right = new_node  # Новый узел становится правым потомком текущего узла\n",
    "                    break\n",
    "                current = current.right  # Текущим узлом становится правый потомок текущего узла\n",
    "\n",
    "    def search(self, value):\n",
    "        current = self.root  # Текущий узел - корневой\n",
    "        while True:\n",
    "            if current is None:  # Если текущий узел отсутствует\n",
    "                return False  # Узел не найден\n",
    "            if current.value == value:  # Если значения текущего узла искомого узла равны\n",
    "                return True  # Узел найден\n",
    "            elif value < current.value:  # Если значение меньше значения текущего узла\n",
    "                current = current.left  # Текущим узлом становится левый потомок текущего узла\n",
    "            else:  # Если значение больше значения текущего узла\n",
    "                current = current.right  # Текущим узлом становится правый потомок текущего узла\n",
    "                \n",
    "    def printTree(self, node): # распечатываем все дерево, от большего к меньшему\n",
    "        if node is None:\n",
    "            return\n",
    "        self.printTree(node.left)\n",
    "        print(node.value, end=\" \")\n",
    "        self.printTree(node.right)\n",
    "    \n",
    "    \n",
    "    \n",
    "    def delete(self, value):\n",
    "        \n",
    "        def _delete(node, value):\n",
    "            if node is None:  # если узел пустой, значит элемента в дереве нет\n",
    "                return node\n",
    "            elif value < node.value:  # если значение меньше значения узла, рекурсивно идем влево\n",
    "                node.left = _delete(node.left, value)\n",
    "            elif value > node.value:  # если значение больше значения узла, рекурсивно идем вправо\n",
    "                node.right = _delete(node.right, value)\n",
    "            else:  # если значение равно значению узла, то это узел, который нужно удалить\n",
    "                if node.left is None:  # если у узла нет левого потомка, возвращаем правого потомка\n",
    "                    temp = node.right\n",
    "                    node = None\n",
    "                    return temp\n",
    "                elif node.right is None:  # если у узла нет правого потомка, возвращаем левого потомка\n",
    "                    temp = node.left\n",
    "                    node = None\n",
    "                    return temp\n",
    "                temp = self.minValueNode(node.right)  # ищем узел с минимальным значением в правом поддереве\n",
    "                node.value = temp.value  # копируем значение найденного узла в удаляемый узел\n",
    "                node.right = _delete(node.right, temp.value)  # рекурсивно удаляем найденный узел\n",
    "            return node\n",
    "        \n",
    "        self.root = _delete(self.root, value)\n",
    "        \n",
    "        \n",
    "    def minValueNode(self, node):  # метод для поиска узла с минимальным значением в дереве\n",
    "        current = node\n",
    "        while current.left is not None:\n",
    "            current = current.left\n",
    "        return current"
   ]
  },
  {
   "cell_type": "code",
   "execution_count": 22,
   "id": "6b2d8fe9",
   "metadata": {},
   "outputs": [
    {
     "name": "stdout",
     "output_type": "stream",
     "text": [
      "True\n"
     ]
    }
   ],
   "source": [
    "tree = BinaryTree()\n",
    "for i in range(10):\n",
    "    tree.insert(random.randint(1, 10))\n",
    "print(tree.search(10))"
   ]
  },
  {
   "cell_type": "code",
   "execution_count": 23,
   "id": "624bca0d",
   "metadata": {},
   "outputs": [
    {
     "name": "stdout",
     "output_type": "stream",
     "text": [
      "1 1 4 6 7 8 8 9 10 10 "
     ]
    }
   ],
   "source": [
    "tree.printTree(tree.root)"
   ]
  },
  {
   "cell_type": "code",
   "execution_count": 24,
   "id": "35a196cd",
   "metadata": {},
   "outputs": [
    {
     "name": "stdout",
     "output_type": "stream",
     "text": [
      "1 1 4 6 7 8 8 10 10 "
     ]
    }
   ],
   "source": [
    "tree.delete(9)\n",
    "tree.printTree(tree.root)"
   ]
  },
  {
   "cell_type": "markdown",
   "id": "3b96a0b8",
   "metadata": {},
   "source": [
    "### Поиск Фибоначчи"
   ]
  },
  {
   "cell_type": "code",
   "execution_count": 31,
   "id": "bb6bbc33",
   "metadata": {},
   "outputs": [],
   "source": [
    "def fibonacci_search(arr, item):\n",
    "    fib1, fib2 = 0, 1\n",
    "    fib_sum = fib1 + fib2\n",
    "    while fib_sum < len(arr):\n",
    "        fib1 = fib2\n",
    "        fib2 = fib_sum\n",
    "        fib_sum = fib1 + fib2\n",
    "\n",
    "    offset = -1\n",
    "    while fib_sum > 1:\n",
    "        i = min(offset + fib1, len(arr) - 1)\n",
    "        if arr[i] < item:\n",
    "            fib_sum = fib2\n",
    "            fib2 = fib1\n",
    "            fib1 = fib_sum - fib2\n",
    "            offset = i\n",
    "        elif arr[i] > item:\n",
    "            fib_sum = fib1\n",
    "            fib2 = fib2 - fib1\n",
    "            fib1 = fib_sum - fib2\n",
    "        else:\n",
    "            return i\n",
    "    if fib2 == 1 and arr[offset + 1] == item:\n",
    "        return offset + 1\n",
    "    return None"
   ]
  },
  {
   "cell_type": "code",
   "execution_count": 32,
   "id": "7be22db9",
   "metadata": {},
   "outputs": [
    {
     "name": "stdout",
     "output_type": "stream",
     "text": [
      "Enter N: 20\n",
      "[1, 2, 7, 8, 11, 20, 25, 31, 31, 32, 59, 59, 60, 62, 71, 77, 80, 86, 93, 100]\n",
      "Enter item: 20\n",
      "Element 20 found at index 5\n"
     ]
    }
   ],
   "source": [
    "n = int(input(\"Enter N: \"))\n",
    "arr = sorted([random.randint(1, 100) for _ in range(n)])\n",
    "print(arr)\n",
    "item = int(input(\"Enter item: \"))\n",
    "result = fibonacci_search(arr, item)\n",
    "if result is not None:\n",
    "    print(f\"Element {item} found at index {result}\")\n",
    "else:\n",
    "    print(f\"Element {item} not found\")"
   ]
  },
  {
   "cell_type": "markdown",
   "id": "24145216",
   "metadata": {},
   "source": [
    "### Интерполяционный поиск"
   ]
  },
  {
   "cell_type": "code",
   "execution_count": 33,
   "id": "e18364d7",
   "metadata": {},
   "outputs": [],
   "source": [
    "def interpolation_search(arr, item):\n",
    "    low = 0\n",
    "    high = len(arr) - 1\n",
    "    while low <= high and item >= arr[low] and item <= arr[high]:\n",
    "        pos = low + ((item - arr[low]) * (high - low) // (arr[high] - arr[low]))\n",
    "        if arr[pos] == item:\n",
    "            return pos\n",
    "        elif arr[pos] < item:\n",
    "            low = pos + 1\n",
    "        else:\n",
    "            high = pos - 1\n",
    "    return None"
   ]
  },
  {
   "cell_type": "code",
   "execution_count": 34,
   "id": "d0cd306b",
   "metadata": {},
   "outputs": [
    {
     "name": "stdout",
     "output_type": "stream",
     "text": [
      "Enter N: 30\n",
      "[5, 9, 13, 15, 16, 17, 19, 22, 30, 30, 35, 38, 46, 50, 52, 57, 57, 69, 74, 82, 84, 87, 87, 89, 89, 91, 92, 95, 96, 99]\n",
      "Enter item: 57\n",
      "Element 57 found at index 16\n"
     ]
    }
   ],
   "source": [
    "n = int(input(\"Enter N: \"))\n",
    "arr = sorted([random.randint(1, 100) for _ in range(n)])\n",
    "print(arr)\n",
    "item = int(input(\"Enter item: \"))\n",
    "result = interpolation_search(arr, item)\n",
    "if result is not None:\n",
    "    print(f\"Element {item} found at index {result}\")\n",
    "else:\n",
    "    print(f\"Element {item} not found\")"
   ]
  },
  {
   "cell_type": "markdown",
   "id": "5b60ec1e",
   "metadata": {},
   "source": [
    "### Сравнение методов поиска"
   ]
  },
  {
   "cell_type": "code",
   "execution_count": 47,
   "id": "734ef501",
   "metadata": {},
   "outputs": [],
   "source": [
    "arrays, elems = [], []\n",
    "for i in range(1, 11):\n",
    "    arrays.append([random.randint(1, 10000*i) for _ in range(10000*i)])\n",
    "    elems.append(10000*i)"
   ]
  },
  {
   "cell_type": "code",
   "execution_count": 48,
   "id": "888ae9f2",
   "metadata": {},
   "outputs": [
    {
     "name": "stdout",
     "output_type": "stream",
     "text": [
      "10000 элементов:  0.002503 cекунд\n",
      "20000 элементов:  0.003313 cекунд\n",
      "30000 элементов:  0.005762 cекунд\n",
      "40000 элементов:  0.007392 cекунд\n",
      "50000 элементов:  0.009822 cекунд\n",
      "60000 элементов:  0.01429 cекунд\n",
      "70000 элементов:  0.014252 cекунд\n",
      "80000 элементов:  0.016326 cекунд\n",
      "90000 элементов:  0.019068 cекунд\n",
      "100000 элементов:  0.021511 cекунд\n"
     ]
    }
   ],
   "source": [
    "binary = []\n",
    "for i in range(len(arrays)):\n",
    "    start = time.perf_counter()\n",
    "    array = sorted(arrays[i])\n",
    "    res = BinarySearch(array, 9999*i+1)\n",
    "    end = time.perf_counter()\n",
    "    print(10000*(i+1), \"элементов: \", round(end-start, 6), \"cекунд\")\n",
    "    binary.append(end-start)"
   ]
  },
  {
   "cell_type": "code",
   "execution_count": 49,
   "id": "a03dd95c",
   "metadata": {},
   "outputs": [
    {
     "name": "stdout",
     "output_type": "stream",
     "text": [
      "10000 элементов:  6e-06 cекунд\n",
      "20000 элементов:  1e-05 cекунд\n",
      "30000 элементов:  7e-06 cекунд\n",
      "40000 элементов:  9e-06 cекунд\n",
      "50000 элементов:  1e-05 cекунд\n",
      "60000 элементов:  8e-06 cекунд\n",
      "70000 элементов:  9e-06 cекунд\n",
      "80000 элементов:  9e-06 cекунд\n",
      "90000 элементов:  8e-06 cекунд\n",
      "100000 элементов:  1.2e-05 cекунд\n"
     ]
    }
   ],
   "source": [
    "binarytree = []\n",
    "for i in range(len(arrays)):\n",
    "    tree = BinaryTree()\n",
    "    for elem in arrays[i]:\n",
    "        tree.insert(elem)\n",
    "    start = time.perf_counter()\n",
    "    res = tree.search(9999*i+1)\n",
    "    end = time.perf_counter()\n",
    "    print(10000*(i+1), \"элементов: \", round(end-start, 6), \"cекунд\")\n",
    "    binarytree.append(end-start)"
   ]
  },
  {
   "cell_type": "code",
   "execution_count": 50,
   "id": "0c9cb06c",
   "metadata": {},
   "outputs": [
    {
     "name": "stdout",
     "output_type": "stream",
     "text": [
      "10000 элементов:  0.002545 cекунд\n",
      "20000 элементов:  0.003181 cекунд\n",
      "30000 элементов:  0.005772 cекунд\n",
      "40000 элементов:  0.007206 cекунд\n",
      "50000 элементов:  0.009516 cекунд\n",
      "60000 элементов:  0.011936 cекунд\n",
      "70000 элементов:  0.013265 cекунд\n",
      "80000 элементов:  0.015236 cекунд\n",
      "90000 элементов:  0.017779 cекунд\n",
      "100000 элементов:  0.020072 cекунд\n"
     ]
    }
   ],
   "source": [
    "fibonacci = []\n",
    "for i in range(len(arrays)):\n",
    "    start = time.perf_counter()\n",
    "    array = sorted(arrays[i])\n",
    "    res = fibonacci_search(array, 9999*i+1)\n",
    "    end = time.perf_counter()\n",
    "    print(10000*(i+1), \"элементов: \", round(end-start, 6), \"cекунд\")\n",
    "    fibonacci.append(end-start)"
   ]
  },
  {
   "cell_type": "code",
   "execution_count": 51,
   "id": "5109f354",
   "metadata": {},
   "outputs": [
    {
     "name": "stdout",
     "output_type": "stream",
     "text": [
      "10000 элементов:  0.002557 cекунд\n",
      "20000 элементов:  0.003355 cекунд\n",
      "30000 элементов:  0.005786 cекунд\n",
      "40000 элементов:  0.007294 cекунд\n",
      "50000 элементов:  0.010016 cекунд\n",
      "60000 элементов:  0.011998 cекунд\n",
      "70000 элементов:  0.013964 cекунд\n",
      "80000 элементов:  0.01736 cекунд\n",
      "90000 элементов:  0.018805 cекунд\n",
      "100000 элементов:  0.021463 cекунд\n"
     ]
    }
   ],
   "source": [
    "interpol = []\n",
    "for i in range(len(arrays)):\n",
    "    start = time.perf_counter()\n",
    "    array = sorted(arrays[i])\n",
    "    res = interpolation_search(array, 9999*i+1)\n",
    "    end = time.perf_counter()\n",
    "    print(10000*(i+1), \"элементов: \", round(end-start, 6), \"cекунд\")\n",
    "    interpol.append(end-start)"
   ]
  },
  {
   "cell_type": "code",
   "execution_count": 52,
   "id": "e2262c26",
   "metadata": {},
   "outputs": [
    {
     "name": "stdout",
     "output_type": "stream",
     "text": [
      "10000 элементов:  0.002772 cекунд\n",
      "20000 элементов:  0.003554 cекунд\n",
      "30000 элементов:  0.005954 cекунд\n",
      "40000 элементов:  0.008093 cекунд\n",
      "50000 элементов:  0.010583 cекунд\n",
      "60000 элементов:  0.014017 cекунд\n",
      "70000 элементов:  0.015171 cекунд\n",
      "80000 элементов:  0.017298 cекунд\n",
      "90000 элементов:  0.019294 cекунд\n",
      "100000 элементов:  0.022644 cекунд\n"
     ]
    }
   ],
   "source": [
    "python = []\n",
    "for i in range(len(arrays)):\n",
    "    start = time.perf_counter()\n",
    "    array = sorted(arrays[i])\n",
    "    try:\n",
    "        array.index(9999*i+1)\n",
    "    except ValueError:\n",
    "        pass\n",
    "    end = time.perf_counter()\n",
    "    print(10000*(i+1), \"элементов: \", round(end-start, 6), \"cекунд\")\n",
    "    python.append(end-start)"
   ]
  },
  {
   "cell_type": "code",
   "execution_count": 53,
   "id": "815cd39a",
   "metadata": {},
   "outputs": [
    {
     "data": {
      "image/png": "[encoded data removed]",
      "text/plain": [
       "<Figure size 640x480 with 1 Axes>"
      ]
     },
     "metadata": {},
     "output_type": "display_data"
    }
   ],
   "source": [
    "#общий график - сравнение алгоритмов\n",
    "plt.xlabel('Количество элементов')\n",
    "plt.ylabel('Временная сложность')\n",
    "plt.plot(elems, binary, label ='BinarySearch')\n",
    "plt.plot(elems, binarytree, label ='BinaryTree')\n",
    "plt.plot(elems, fibonacci, label ='FibonacciSearch')\n",
    "plt.plot(elems, interpol, label ='InterpolationSearch')\n",
    "plt.plot(elems, python, label ='PythonSearch')\n",
    "plt.grid()\n",
    "plt.legend()\n",
    "plt.show()"
   ]
  },
  {
   "cell_type": "code",
   "execution_count": 55,
   "id": "6e857c80",
   "metadata": {},
   "outputs": [
    {
     "data": {
      "text/html": [
       "<div>\n",
       "<style scoped>\n",
       "    .dataframe tbody tr th:only-of-type {\n",
       "        vertical-align: middle;\n",
       "    }\n",
       "\n",
       "    .dataframe tbody tr th {\n",
       "        vertical-align: top;\n",
       "    }\n",
       "\n",
       "    .dataframe thead th {\n",
       "        text-align: right;\n",
       "    }\n",
       "</style>\n",
       "<table border=\"1\" class=\"dataframe\">\n",
       "  <thead>\n",
       "    <tr style=\"text-align: right;\">\n",
       "      <th></th>\n",
       "      <th>BinarySearch O(log n)</th>\n",
       "      <th>BinaryTree O(log(log n))</th>\n",
       "      <th>FibonacciSearch O(log n)</th>\n",
       "      <th>InterpolationSearch O(log n)</th>\n",
       "      <th>PythonSearch O(log n)</th>\n",
       "    </tr>\n",
       "  </thead>\n",
       "  <tbody>\n",
       "    <tr>\n",
       "      <th>10000</th>\n",
       "      <td>0.002503</td>\n",
       "      <td>0.000006</td>\n",
       "      <td>0.002545</td>\n",
       "      <td>0.002557</td>\n",
       "      <td>0.002772</td>\n",
       "    </tr>\n",
       "    <tr>\n",
       "      <th>20000</th>\n",
       "      <td>0.003313</td>\n",
       "      <td>0.000010</td>\n",
       "      <td>0.003181</td>\n",
       "      <td>0.003355</td>\n",
       "      <td>0.003554</td>\n",
       "    </tr>\n",
       "    <tr>\n",
       "      <th>30000</th>\n",
       "      <td>0.005762</td>\n",
       "      <td>0.000007</td>\n",
       "      <td>0.005772</td>\n",
       "      <td>0.005786</td>\n",
       "      <td>0.005954</td>\n",
       "    </tr>\n",
       "    <tr>\n",
       "      <th>40000</th>\n",
       "      <td>0.007392</td>\n",
       "      <td>0.000009</td>\n",
       "      <td>0.007206</td>\n",
       "      <td>0.007294</td>\n",
       "      <td>0.008093</td>\n",
       "    </tr>\n",
       "    <tr>\n",
       "      <th>50000</th>\n",
       "      <td>0.009822</td>\n",
       "      <td>0.000010</td>\n",
       "      <td>0.009516</td>\n",
       "      <td>0.010016</td>\n",
       "      <td>0.010583</td>\n",
       "    </tr>\n",
       "    <tr>\n",
       "      <th>60000</th>\n",
       "      <td>0.014290</td>\n",
       "      <td>0.000008</td>\n",
       "      <td>0.011936</td>\n",
       "      <td>0.011998</td>\n",
       "      <td>0.014017</td>\n",
       "    </tr>\n",
       "    <tr>\n",
       "      <th>70000</th>\n",
       "      <td>0.014252</td>\n",
       "      <td>0.000009</td>\n",
       "      <td>0.013265</td>\n",
       "      <td>0.013964</td>\n",
       "      <td>0.015171</td>\n",
       "    </tr>\n",
       "    <tr>\n",
       "      <th>80000</th>\n",
       "      <td>0.016326</td>\n",
       "      <td>0.000009</td>\n",
       "      <td>0.015236</td>\n",
       "      <td>0.017360</td>\n",
       "      <td>0.017298</td>\n",
       "    </tr>\n",
       "    <tr>\n",
       "      <th>90000</th>\n",
       "      <td>0.019068</td>\n",
       "      <td>0.000008</td>\n",
       "      <td>0.017779</td>\n",
       "      <td>0.018805</td>\n",
       "      <td>0.019294</td>\n",
       "    </tr>\n",
       "    <tr>\n",
       "      <th>100000</th>\n",
       "      <td>0.021511</td>\n",
       "      <td>0.000012</td>\n",
       "      <td>0.020072</td>\n",
       "      <td>0.021463</td>\n",
       "      <td>0.022644</td>\n",
       "    </tr>\n",
       "  </tbody>\n",
       "</table>\n",
       "</div>"
      ],
      "text/plain": [
       "        BinarySearch O(log n)  BinaryTree O(log(log n))  \\\n",
       "10000                0.002503                  0.000006   \n",
       "20000                0.003313                  0.000010   \n",
       "30000                0.005762                  0.000007   \n",
       "40000                0.007392                  0.000009   \n",
       "50000                0.009822                  0.000010   \n",
       "60000                0.014290                  0.000008   \n",
       "70000                0.014252                  0.000009   \n",
       "80000                0.016326                  0.000009   \n",
       "90000                0.019068                  0.000008   \n",
       "100000               0.021511                  0.000012   \n",
       "\n",
       "        FibonacciSearch O(log n)  InterpolationSearch O(log n)  \\\n",
       "10000                   0.002545                      0.002557   \n",
       "20000                   0.003181                      0.003355   \n",
       "30000                   0.005772                      0.005786   \n",
       "40000                   0.007206                      0.007294   \n",
       "50000                   0.009516                      0.010016   \n",
       "60000                   0.011936                      0.011998   \n",
       "70000                   0.013265                      0.013964   \n",
       "80000                   0.015236                      0.017360   \n",
       "90000                   0.017779                      0.018805   \n",
       "100000                  0.020072                      0.021463   \n",
       "\n",
       "        PythonSearch O(log n)  \n",
       "10000                0.002772  \n",
       "20000                0.003554  \n",
       "30000                0.005954  \n",
       "40000                0.008093  \n",
       "50000                0.010583  \n",
       "60000                0.014017  \n",
       "70000                0.015171  \n",
       "80000                0.017298  \n",
       "90000                0.019294  \n",
       "100000               0.022644  "
      ]
     },
     "execution_count": 55,
     "metadata": {},
     "output_type": "execute_result"
    }
   ],
   "source": [
    "df = pd.DataFrame({'BinarySearch O(log n)': [binary[i] for i in range(10)],\n",
    "                   'BinaryTree O(log(log n))': [binarytree[i] for i in range(10)],\n",
    "                   'FibonacciSearch O(log n)': [fibonacci[i] for i in range(10)],\n",
    "                   'InterpolationSearch O(log n)': [interpol[i] for i in range(10)],\n",
    "                   'PythonSearch O(log n)': [python[i] for i in range(10)]}, index=elems).round(6)\n",
    "\n",
    "df"
   ]
  },
  {
   "cell_type": "markdown",
   "id": "7e804189",
   "metadata": {},
   "source": [
    "### Задание 2\n",
    "### Простое рехэширование"
   ]
  },
  {
   "cell_type": "code",
   "execution_count": 107,
   "id": "78e87d14",
   "metadata": {},
   "outputs": [],
   "source": [
    "# при возникновении коллизии, ключ переносится в следующую свободную ячейку, начиная с той, в которой он должен быть помещен\n",
    "class HashNode:\n",
    "    \n",
    "    def __init__(self, key, value):\n",
    "        self.key = key\n",
    "        self.value = value\n",
    "        \n",
    "    def get_key(self):\n",
    "        return self.key\n",
    "\n",
    "    def get_value(self):\n",
    "        return self.value\n",
    "\n",
    "class SimpleHashMap:\n",
    "    \n",
    "    def __init__(self, capacity: int):\n",
    "        self.size = 0\n",
    "        self.capacity = capacity\n",
    "        self.buckets = [None] * self.capacity\n",
    "    \n",
    "    def _hash_generate(self, key):\n",
    "        return key % self.capacity\n",
    "\n",
    "    def insert(self, key, value):\n",
    "        if self.size != self.capacity:\n",
    "            self.size += 1\n",
    "            index = self._hash_generate(key)\n",
    "            while self.buckets:\n",
    "                if self.buckets[index] != None: # проверка на коллизию\n",
    "                    index = (index + 1) % self.capacity\n",
    "                else: break\n",
    "            self.buckets[index] = HashNode(index, value) #?\n",
    "        else:\n",
    "            print(\"HashMap is full\")\n",
    "    \n",
    "    def get(self, key):\n",
    "        index = _hash_generate(key)\n",
    "        return self.buckets[index]\n",
    "    \n",
    "    def delete(self, key):\n",
    "        index = _hash_generate(key)\n",
    "        if self.size:\n",
    "            self.size -= 1\n",
    "            self.buckets[index] = None\n",
    "        else:\n",
    "            print(\"HashMap is empty\")\n",
    "        \n",
    "        \n",
    "    def print(self):\n",
    "        for i in range(len(self.buckets)):\n",
    "            if self.buckets[i] != None:\n",
    "                print(self.buckets[i].get_key(), self.buckets[i].get_value(), sep=\": \")\n",
    "        print()"
   ]
  },
  {
   "cell_type": "code",
   "execution_count": 108,
   "id": "bd032645",
   "metadata": {},
   "outputs": [
    {
     "name": "stdout",
     "output_type": "stream",
     "text": [
      "0: 7\n",
      "1: 2\n",
      "2: 0\n",
      "3: 10\n",
      "4: 4\n",
      "5: 3\n",
      "\n",
      "HashMap is full\n"
     ]
    }
   ],
   "source": [
    "hash_table = SimpleHashMap(6)\n",
    "hash_table.insert(1, 2)\n",
    "hash_table.insert(2, 0)\n",
    "hash_table.insert(4, 4)\n",
    "hash_table.insert(11, 3) \n",
    "hash_table.insert(16, 7) # коллизия с ключом (11 % 6 == 16 % 6)\n",
    "hash_table.insert(10, 10)\n",
    "hash_table.print()\n",
    "\n",
    "hash_table.insert(12, 10)"
   ]
  },
  {
   "cell_type": "markdown",
   "id": "c76f040a",
   "metadata": {},
   "source": [
    "### Рехэширование с псевдослучайными числами"
   ]
  },
  {
   "cell_type": "code",
   "execution_count": 141,
   "id": "178f6f22",
   "metadata": {},
   "outputs": [],
   "source": [
    "class RandomHashMap:\n",
    "    \n",
    "    def __init__(self, capacity: int):\n",
    "        self.size = 0\n",
    "        self.capacity = capacity\n",
    "        self.buckets = [None] * self.capacity\n",
    "    \n",
    "    def _random_hash_generate(self, key):\n",
    "        indexes = [i for i in range(self.capacity)]\n",
    "        random.shuffle(indexes)\n",
    "        while self.buckets:\n",
    "            index = indexes.pop()\n",
    "            if self.buckets[index] == None: # проверка на коллизию\n",
    "                return index\n",
    "\n",
    "    def insert(self, key, value):\n",
    "        if self.size != self.capacity:\n",
    "            self.size += 1\n",
    "            index = self._random_hash_generate(key)\n",
    "            self.buckets[index] = HashNode(index, value) #?\n",
    "        else:\n",
    "            print(\"HashMap is full\")\n",
    "            \n",
    "    def delete(self, key):\n",
    "        if key > self.capacity-1:\n",
    "            print(\"key isn't found\")\n",
    "        if self.size:\n",
    "            self.size -= 1\n",
    "            self.buckets[key] = None\n",
    "        else:\n",
    "            print(\"HashMap is empty\")\n",
    "            \n",
    "    def print(self):\n",
    "        for i in range(len(self.buckets)):\n",
    "            if self.buckets[i] != None:\n",
    "                print(f\"Key: {self.buckets[i].get_key()}, Value: {self.buckets[i].get_value()}\")\n",
    "        print()"
   ]
  },
  {
   "cell_type": "code",
   "execution_count": 142,
   "id": "64a6da47",
   "metadata": {},
   "outputs": [
    {
     "name": "stdout",
     "output_type": "stream",
     "text": [
      "Key: 0, Value: 3\n",
      "Key: 1, Value: 0\n",
      "Key: 2, Value: 2\n",
      "Key: 3, Value: 7\n",
      "Key: 4, Value: 4\n",
      "Key: 5, Value: 10\n",
      "\n",
      "HashMap is full\n"
     ]
    }
   ],
   "source": [
    "hash_map = RandomHashMap(6)\n",
    "hash_map.insert(1, 2)\n",
    "hash_map.insert(2, 0)\n",
    "hash_map.insert(4, 4)\n",
    "hash_map.insert(11, 3) \n",
    "hash_map.insert(16, 7)\n",
    "hash_map.insert(10, 10)\n",
    "hash_map.print()\n",
    "\n",
    "hash_map.insert(12, 10)"
   ]
  },
  {
   "cell_type": "markdown",
   "id": "b483af2c",
   "metadata": {},
   "source": [
    "### Метод цепочек"
   ]
  },
  {
   "cell_type": "code",
   "execution_count": 143,
   "id": "68650f22",
   "metadata": {},
   "outputs": [],
   "source": [
    "# Метод цепочек - это метод решения коллизий в хэш-таблицах.\n",
    "# Он основан на создании связанных списков (цепочек) элементов,\n",
    "# которые имеют одинаковый хэш-код.\n",
    "# Создаем класс узла списка\n",
    "class ChainHashNode:\n",
    "    def __init__(self, key, value):\n",
    "        self.key = key\n",
    "        self.value = value\n",
    "        self.next = None\n",
    "    \n",
    "    def get_key(self):\n",
    "        return self.key\n",
    "\n",
    "    def get_value(self):\n",
    "        return self.value\n",
    "    \n",
    "    def get_next(self):\n",
    "        return self.next\n",
    "\n",
    "\n",
    "# Создаем класс хэш-таблицы\n",
    "class ChainHashMap:\n",
    "    def __init__(self):\n",
    "        self.capacity = 10  # начальная емкость таблицы\n",
    "        self.size = 0  # количество элементов в таблице\n",
    "        self.buckets = [None] * self.capacity  # создаем пустые списки для каждой ячейки таблицы\n",
    "\n",
    "    # Метод добавления элемента в таблицу\n",
    "    def insert(self, key, value):\n",
    "        index = hash(key) % self.capacity  # вычисляем хэш-код ключа и индекс ячейки таблицы\n",
    "        node = self.buckets[index]  # получаем список (цепочку) элементов по индексу\n",
    "        while node:  # проходим по всем элементам цепочки\n",
    "            if node.key == key:  # если ключ уже есть в таблице, обновляем значение\n",
    "                node.value = value\n",
    "                return\n",
    "            node = node.next\n",
    "        # если ключа нет в таблице, добавляем его в начало цепочки\n",
    "        new_node = ChainHashNode(key, value)\n",
    "        new_node.next = self.buckets[index]\n",
    "        self.buckets[index] = new_node\n",
    "        self.size += 1\n",
    "        # если количество элементов превысило 70% от емкости таблицы, увеличиваем емкость вдвое\n",
    "        if self.size > 0.7 * self.capacity:\n",
    "            self.resize()\n",
    "\n",
    "    # Метод получения значения по ключу\n",
    "    def get(self, key):\n",
    "        index = hash(key) % self.capacity  # вычисляем хэш-код ключа и индекс ячейки таблицы\n",
    "        node = self.buckets[index]  # получаем список (цепочку) элементов по индексу\n",
    "        while node:  # проходим по всем элементам цепочки\n",
    "            if node.key == key:  # если ключ найден, возвращаем его значение\n",
    "                return node.value\n",
    "            node = node.next\n",
    "        # если ключ не найден, возвращаем None\n",
    "        return None\n",
    "\n",
    "    # Метод удаления элемента из таблицы\n",
    "    def delete(self, key):\n",
    "        index = hash(key) % self.capacity  # вычисляем хэш-код ключа и индекс ячейки таблицы\n",
    "        node = self.buckets[index]  # получаем список (цепочку) элементов по индексу\n",
    "        prev = None\n",
    "        while node:  # проходим по всем элементам цепочки\n",
    "            if node.key == key:  # если ключ найден, удаляем элемент\n",
    "                if prev:\n",
    "                    prev.next = node.next\n",
    "                else:\n",
    "                    self.buckets[index] = node.next\n",
    "                self.size -= 1\n",
    "                return\n",
    "            prev = node\n",
    "            node = node.next\n",
    "\n",
    "    # Метод изменения емкости таблицы\n",
    "    def resize(self):\n",
    "        new_capacity = self.capacity * 2  # увеличиваем емкость вдвое\n",
    "        new_buckets = [None] * new_capacity  # создаем новую таблицу с увеличенной емкостью\n",
    "        # перехешируем все элементы из старой таблицы в новую\n",
    "        for i in range(self.capacity):\n",
    "            node = self.buckets[i]\n",
    "            while node:\n",
    "                index = hash(node.key) % new_capacity\n",
    "                if new_buckets[index]:\n",
    "                    new_node = new_buckets[index]\n",
    "                    while new_node.next:\n",
    "                        new_node = new_node.next\n",
    "                    new_node.next = ChainHashNode(node.key, node.value)\n",
    "                else:\n",
    "                    new_buckets[index] = ChainHashNode(node.key, node.value)\n",
    "                node = node.next\n",
    "        self.capacity = new_capacity\n",
    "        self.buckets = new_buckets\n",
    "        \n",
    "    def print(self):\n",
    "        for i in range(self.capacity):\n",
    "            node = self.buckets[i]\n",
    "            while node:\n",
    "                print(f\"Key: {node.key}, Value: {node.value}\")\n",
    "                node = node.next\n"
   ]
  },
  {
   "cell_type": "code",
   "execution_count": 145,
   "id": "9b2d863a",
   "metadata": {
    "scrolled": true
   },
   "outputs": [
    {
     "name": "stdout",
     "output_type": "stream",
     "text": [
      "Key: key4, Value: value4\n",
      "Key: key3, Value: value3\n",
      "Key: key5, Value: 3\n",
      "Key: key1, Value: value1\n",
      "Key: key6, Value: 2\n",
      "Key: key2, Value: value2\n"
     ]
    }
   ],
   "source": [
    "ht = ChainHashMap()\n",
    "ht.insert('key1', 'value1')\n",
    "ht.insert('key2', 'value2')\n",
    "ht.insert('key3', 'value3')\n",
    "ht.insert('key4', 'value4')\n",
    "ht.insert('key5', 1)\n",
    "ht.insert('key6', 2)\n",
    "ht.insert('key5', 3)\n",
    "ht.print()"
   ]
  },
  {
   "cell_type": "markdown",
   "id": "2d6da515",
   "metadata": {},
   "source": [
    "### Задание 3\n",
    "Расставить на стандартной 64-клеточной шахматной доске 8 ферзей так, чтобы ни один из них не находился под боем другого». Подразумевается, что ферзь бьёт все клетки, расположенные по вертикалям, горизонталям и обеим диагоналям"
   ]
  },
  {
   "cell_type": "code",
   "execution_count": 67,
   "id": "6835c748",
   "metadata": {
    "scrolled": true
   },
   "outputs": [
    {
     "name": "stdout",
     "output_type": "stream",
     "text": [
      "▢▢▢▢♛▢▢▢\n",
      "♛▢▢▢▢▢▢▢\n",
      "▢▢▢♛▢▢▢▢\n",
      "▢▢▢▢▢♛▢▢\n",
      "▢▢▢▢▢▢▢♛\n",
      "▢♛▢▢▢▢▢▢\n",
      "▢▢▢▢▢▢♛▢\n",
      "▢▢♛▢▢▢▢▢\n"
     ]
    }
   ],
   "source": [
    "class Queen:\n",
    "    def __init__(self, x, y):\n",
    "        self.x = x\n",
    "        self.y = y\n",
    "\n",
    "    def attack(self, queen) -> bool:\n",
    "        return self.x == queen.x or self.y == queen.y or abs(queen.x - self.x) == abs(queen.y - self.y)\n",
    "\n",
    "    def getCoord(self):\n",
    "        return (self.x, self.y)\n",
    "\n",
    "\n",
    "def SolveQueens(boardSize: int, queens: list = None):\n",
    "    if queens is None:\n",
    "        queens = [Queen(0, random.randint(0, boardSize - 1))]\n",
    "\n",
    "    if len(queens) == boardSize:\n",
    "        res = []\n",
    "        for queen in queens:\n",
    "            res.append(queen.getCoord())\n",
    "        return res\n",
    "    else:\n",
    "        row = len(queens)\n",
    "        candidates = [Queen(row, i) for i in range(boardSize)]\n",
    "        for candidate in candidates:\n",
    "            under_attack = False\n",
    "            for queen in queens:\n",
    "                if queen.attack(candidate):\n",
    "                    under_attack = True\n",
    "                    break\n",
    "            if not under_attack:\n",
    "                queens.append(candidate)\n",
    "                result = SolveQueens(boardSize, queens)\n",
    "                if result is not None:\n",
    "                    return result\n",
    "                queens.pop()\n",
    "        return None\n",
    "\n",
    "\n",
    "def Draw(placement):\n",
    "    boardSize = len(placement)\n",
    "    for x in range(boardSize):\n",
    "        for y in range(boardSize):\n",
    "            if (x, y) in placement:\n",
    "                print(\"♛\", end=\"\")\n",
    "            else:\n",
    "                print(\"▢\", end=\"\")\n",
    "        print()\n",
    "\n",
    "\n",
    "Draw(SolveQueens(8))"
   ]
  },
  {
   "cell_type": "markdown",
   "id": "c0870ad8",
   "metadata": {},
   "source": [
    "## Вывод\n",
    "В ходе данной лабораторной работы были реализованы методы поиска элемента в массиве и определены зависимости времени исполнения алгоритма от числа элементов массива, построен график и сводная таблица. Были реализованы три вида хэширования. Была решена задача с расстановкой ферзей на шахматной доске."
   ]
  }
 ],
 "metadata": {
  "kernelspec": {
   "display_name": "Python 3 (ipykernel)",
   "language": "python",
   "name": "python3"
  },
  "language_info": {
   "codemirror_mode": {
    "name": "ipython",
    "version": 3
   },
   "file_extension": ".py",
   "mimetype": "text/x-python",
   "name": "python",
   "nbconvert_exporter": "python",
   "pygments_lexer": "ipython3",
   "version": "3.9.13"
  }
 },
 "nbformat": 4,
 "nbformat_minor": 5
}
