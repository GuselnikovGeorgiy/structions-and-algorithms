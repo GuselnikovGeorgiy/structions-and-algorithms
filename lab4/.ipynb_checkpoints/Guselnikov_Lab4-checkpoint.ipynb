{
 "cells": [
  {
   "cell_type": "markdown",
   "id": "9567e3ca",
   "metadata": {},
   "source": [
    "# Лабораторная работа 4. Методы поиска.\n",
    "## Выполнил студент группы БСТ2105 Гусельников Г. М."
   ]
  },
  {
   "cell_type": "markdown",
   "id": "46e6f552",
   "metadata": {},
   "source": [
    "Реализовать методы поиска в соответствии с заданием. Организовать генерацию начального набора случайных данных. Для всех вариантов добавить реализацию добавления, поиска и удаления элементов. Оценить время работы каждого алгоритма поиска и сравнить его со временем работы стандартной функции поиска, используемой в выбранном языке программирования."
   ]
  },
  {
   "cell_type": "markdown",
   "id": "b6fa0be0",
   "metadata": {},
   "source": [
    "### Задание 1\n",
    "### Бинарный поиск"
   ]
  },
  {
   "cell_type": "code",
   "execution_count": 32,
   "id": "08623819",
   "metadata": {},
   "outputs": [],
   "source": [
    "import random\n",
    "import math"
   ]
  },
  {
   "cell_type": "code",
   "execution_count": 2,
   "id": "8edbea2b",
   "metadata": {},
   "outputs": [],
   "source": [
    "def BinarySearch(ls: list, value: int) -> int:\n",
    "    middle = len(ls) // 2\n",
    "    left = 0\n",
    "    right = len(ls) - 1\n",
    "    while left < right and middle != value:\n",
    "        if value < ls[middle]:\n",
    "            right = middle - 1\n",
    "        else:\n",
    "            left = middle + 1\n",
    "        middle = (left + right) // 2\n",
    "    return None if left > right else middle"
   ]
  },
  {
   "cell_type": "code",
   "execution_count": 4,
   "id": "e863334c",
   "metadata": {},
   "outputs": [
    {
     "name": "stdout",
     "output_type": "stream",
     "text": [
      "Enter length of list: N = 20\n",
      "[7, 12, 16, 19, 20, 24, 31, 41, 42, 43, 45, 48, 50, 55, 71, 75, 76, 82, 84, 98]\n",
      "Enter a value to search: 42\n",
      "ID of elem =  9\n"
     ]
    }
   ],
   "source": [
    "n = int(input(\"Enter length of list: N = \"))\n",
    "ls = [random.randint(1, 100) for _ in range(n)]\n",
    "ls.sort()\n",
    "print(ls)\n",
    "value = int(input(\"Enter a value to search: \"))\n",
    "print(\"ID of elem = \", BinarySearch(ls, value))"
   ]
  },
  {
   "cell_type": "markdown",
   "id": "015dd054",
   "metadata": {},
   "source": [
    "### Бинарное дерево"
   ]
  },
  {
   "cell_type": "code",
   "execution_count": 9,
   "id": "f1b98e61",
   "metadata": {},
   "outputs": [],
   "source": [
    "class Node:\n",
    "    def __init__(self, value):\n",
    "        self.value = value\n",
    "        self.left = None\n",
    "        self.right = None\n",
    "\n",
    "\n",
    "class BinaryTree:\n",
    "    def __init__(self):\n",
    "        self.root = None\n",
    "\n",
    "    def insert(self, value):\n",
    "        new_node = Node(value)  # Создание нового узла\n",
    "        if self.root is None:  # Если дерево пустое\n",
    "            self.root = new_node  # Новый узел становится корневым\n",
    "            return\n",
    "        current = self.root  # Текущий узел - корневой\n",
    "        while True:\n",
    "            if value < current.value:  # Если значение меньше значения текущего узла\n",
    "                if current.left is None:  # Если левый потомок отсутствует\n",
    "                    current.left = new_node  # Новый узел становится левым потомком текущего узла\n",
    "                    break\n",
    "                current = current.left  # Текущим узлом становится левый потомок текущего узла\n",
    "            else:  # Если значение больше или равно значению текущего узла\n",
    "                if current.right is None:  # Если правый потомок отсутствует\n",
    "                    current.right = new_node  # Новый узел становится правым потомком текущего узла\n",
    "                    break\n",
    "                current = current.right  # Текущим узлом становится правый потомок текущего узла\n",
    "\n",
    "    def search(self, value):\n",
    "        current = self.root  # Текущий узел - корневой\n",
    "        while True:\n",
    "            if current is None:  # Если текущий узел отсутствует\n",
    "                return False  # Узел не найден\n",
    "            if current.value == value:  # Если значения текущего узла искомого узла равны\n",
    "                return True  # Узел найден\n",
    "            elif value < current.value:  # Если значение меньше значения текущего узла\n",
    "                current = current.left  # Текущим узлом становится левый потомок текущего узла\n",
    "            else:  # Если значение больше значения текущего узла\n",
    "                current = current.right  # Текущим узлом становится правый потомок текущего узла\n",
    "                \n",
    "    def printTree(self, node):\n",
    "        if node is None:\n",
    "            return\n",
    "        self.printTree(node.left)\n",
    "        print(node.value)\n",
    "        self.printTree(node.right)"
   ]
  },
  {
   "cell_type": "code",
   "execution_count": 10,
   "id": "6b2d8fe9",
   "metadata": {},
   "outputs": [
    {
     "name": "stdout",
     "output_type": "stream",
     "text": [
      "True\n"
     ]
    }
   ],
   "source": [
    "tree = BinaryTree()\n",
    "for i in range(10):\n",
    "    tree.insert(random.randint(1, 10))\n",
    "print(tree.search(10))"
   ]
  },
  {
   "cell_type": "code",
   "execution_count": 11,
   "id": "624bca0d",
   "metadata": {},
   "outputs": [
    {
     "name": "stdout",
     "output_type": "stream",
     "text": [
      "1\n",
      "2\n",
      "3\n",
      "4\n",
      "5\n",
      "5\n",
      "5\n",
      "6\n",
      "9\n",
      "10\n"
     ]
    }
   ],
   "source": [
    "tree.printTree(tree.root)"
   ]
  },
  {
   "cell_type": "markdown",
   "id": "c225038f",
   "metadata": {},
   "source": [
    "### Поиск Фибоначчи"
   ]
  },
  {
   "cell_type": "code",
   "execution_count": 3,
   "id": "e7dca8dd",
   "metadata": {},
   "outputs": [],
   "source": [
    "def fibonacci_search(arr, item):\n",
    "    fib1, fib2 = 0, 1\n",
    "    fib_sum = fib1 + fib2\n",
    "    while fib_sum < len(arr):\n",
    "        fib1 = fib2\n",
    "        fib2 = fib_sum\n",
    "        fib_sum = fib1 + fib2\n",
    "\n",
    "    offset = -1\n",
    "    while fib_sum > 1:\n",
    "        i = min(offset + fib1, len(arr) - 1)\n",
    "        if arr[i] < item:\n",
    "            fib_sum = fib2\n",
    "            fib2 = fib1\n",
    "            fib1 = fib_sum - fib2\n",
    "            offset = i\n",
    "        elif arr[i] > item:\n",
    "            fib_sum = fib1\n",
    "            fib2 = fib2 - fib1\n",
    "            fib1 = fib_sum - fib2\n",
    "        else:\n",
    "            return i\n",
    "    if fib2 == 1 and arr[offset + 1] == item:\n",
    "        return offset + 1\n",
    "    return None"
   ]
  },
  {
   "cell_type": "code",
   "execution_count": 7,
   "id": "e6f60b03",
   "metadata": {},
   "outputs": [
    {
     "name": "stdout",
     "output_type": "stream",
     "text": [
      "Enter N: 50\n",
      "[7, 8, 9, 13, 13, 15, 19, 19, 21, 21, 26, 26, 27, 29, 32, 36, 39, 40, 41, 42, 43, 43, 45, 45, 50, 51, 52, 59, 61, 64, 65, 67, 68, 71, 72, 79, 81, 84, 85, 86, 88, 89, 89, 93, 94, 94, 96, 97, 97, 98]\n",
      "Enter item: 81\n",
      "Element 81 found at index 36\n"
     ]
    }
   ],
   "source": [
    "n = int(input(\"Enter N: \"))\n",
    "arr = sorted([random.randint(1, 100) for _ in range(n)])\n",
    "print(arr)\n",
    "item = int(input(\"Enter item: \"))\n",
    "result = fibonacci_search(arr, item)\n",
    "if result is not None:\n",
    "    print(f\"Element {item} found at index {result}\")\n",
    "else:\n",
    "    print(f\"Element {item} not found\")"
   ]
  },
  {
   "cell_type": "markdown",
   "id": "26c147ea",
   "metadata": {},
   "source": [
    "### Интерполяционный поиск"
   ]
  },
  {
   "cell_type": "code",
   "execution_count": 5,
   "id": "d96ec125",
   "metadata": {},
   "outputs": [],
   "source": [
    "def interpolation_search(arr, item):\n",
    "    low = 0\n",
    "    high = len(arr) - 1\n",
    "    while low <= high and item >= arr[low] and item <= arr[high]:\n",
    "        pos = low + ((item - arr[low]) * (high - low) // (arr[high] - arr[low]))\n",
    "        if arr[pos] == item:\n",
    "            return pos\n",
    "        elif arr[pos] < item:\n",
    "            low = pos + 1\n",
    "        else:\n",
    "            high = pos - 1\n",
    "    return None"
   ]
  },
  {
   "cell_type": "code",
   "execution_count": 8,
   "id": "ea40d04c",
   "metadata": {},
   "outputs": [
    {
     "name": "stdout",
     "output_type": "stream",
     "text": [
      "Enter N: 50\n",
      "[6, 6, 8, 9, 13, 14, 14, 15, 16, 20, 20, 22, 24, 25, 28, 28, 31, 33, 33, 34, 36, 39, 40, 44, 46, 50, 50, 52, 54, 55, 56, 57, 59, 60, 60, 65, 65, 67, 68, 72, 76, 77, 79, 82, 84, 90, 92, 93, 97, 98]\n",
      "Enter item: 77\n",
      "Element 77 found at index 41\n"
     ]
    }
   ],
   "source": [
    "n = int(input(\"Enter N: \"))\n",
    "arr = sorted([random.randint(1, 100) for _ in range(n)])\n",
    "print(arr)\n",
    "item = int(input(\"Enter item: \"))\n",
    "result = interpolation_search(arr, item)\n",
    "if result is not None:\n",
    "    print(f\"Element {item} found at index {result}\")\n",
    "else:\n",
    "    print(f\"Element {item} not found\")"
   ]
  },
  {
   "cell_type": "markdown",
   "id": "f5bb9095",
   "metadata": {},
   "source": [
    "### Задание 2\n",
    "### Простое рехэширование"
   ]
  },
  {
   "cell_type": "code",
   "execution_count": 21,
   "id": "f4407804",
   "metadata": {},
   "outputs": [],
   "source": [
    "def hash_generate(key):\n",
    "    return key % 6\n",
    "\n",
    "def insert(key, value):\n",
    "    index = hash_generate(key)\n",
    "    while index in hash_table:\n",
    "        index = (index + 1) % 5\n",
    "    hash_table[index] = value"
   ]
  },
  {
   "cell_type": "code",
   "execution_count": 23,
   "id": "10a0aaf6",
   "metadata": {},
   "outputs": [
    {
     "name": "stdout",
     "output_type": "stream",
     "text": [
      "{1: 2, 2: 0, 4: 4, 5: 3, 3: 7}\n"
     ]
    }
   ],
   "source": [
    "hash_table = {}\n",
    "insert(1, 2)\n",
    "insert(2, 0)\n",
    "insert(4, 4)\n",
    "insert(11, 3)\n",
    "insert(11, 7)\n",
    "print(hash_table)"
   ]
  },
  {
   "cell_type": "markdown",
   "id": "96ed9cb7",
   "metadata": {},
   "source": [
    "### Рехэширование с псевдослучайными числами"
   ]
  },
  {
   "cell_type": "code",
   "execution_count": 25,
   "id": "29ba2804",
   "metadata": {},
   "outputs": [],
   "source": [
    "def RandomHash(numbers: list) -> list:\n",
    "    # Создаем новый список для хранения перехешированных чисел\n",
    "    new_numbers = []\n",
    "    # Перебираем числа из исходного списка\n",
    "    for number in numbers:\n",
    "        # Генерируем псевдослучайное число в диапазоне от 0 до 100\n",
    "        random_number = random.randint(0, 100)\n",
    "        # Перехешируем число с помощью псевдослучайного числа\n",
    "        hashed_number = (number * random_number) % 101\n",
    "        # Добавляем перехешированное число в новый список\n",
    "        new_numbers.append(hashed_number)\n",
    "    return new_numbers"
   ]
  },
  {
   "cell_type": "code",
   "execution_count": 26,
   "id": "846ed21f",
   "metadata": {},
   "outputs": [
    {
     "name": "stdout",
     "output_type": "stream",
     "text": [
      "Enter N: 10\n",
      "Исходный список чисел: [7, 95, 61, 25, 13, 2, 20, 73, 67, 82]\n",
      "Перехешированный список чисел: [100, 51, 62, 51, 44, 90, 72, 22, 65, 13]\n"
     ]
    }
   ],
   "source": [
    "n = int(input(\"Enter N: \"))\n",
    "# Создаем список чисел\n",
    "numbers = [random.randint(1, 100) for _ in range(n)]\n",
    "# Выводим исходный список и список перехешированных чисел\n",
    "print(\"Исходный список чисел:\", numbers)\n",
    "print(\"Перехешированный список чисел:\", RandomHash(numbers))"
   ]
  },
  {
   "cell_type": "markdown",
   "id": "507fc96a",
   "metadata": {},
   "source": [
    "### Метод цепочек"
   ]
  },
  {
   "cell_type": "code",
   "execution_count": 28,
   "id": "949f9b20",
   "metadata": {},
   "outputs": [],
   "source": [
    "# Метод цепочек - это метод решения коллизий в хэш-таблицах.\n",
    "# Он основан на создании связанных списков (цепочек) элементов,\n",
    "# которые имеют одинаковый хэш-код.\n",
    "# Создаем класс узла списка\n",
    "class HashNode:\n",
    "    def __init__(self, key, value):\n",
    "        self.key = key\n",
    "        self.value = value\n",
    "        self.next = None\n",
    "\n",
    "\n",
    "# Создаем класс хэш-таблицы\n",
    "class HashTable:\n",
    "    def __init__(self):\n",
    "        self.capacity = 10  # начальная емкость таблицы\n",
    "        self.size = 0  # количество элементов в таблице\n",
    "        self.buckets = [None] * self.capacity  # создаем пустые списки для каждой ячейки таблицы\n",
    "\n",
    "    # Метод добавления элемента в таблицу\n",
    "    def add(self, key, value):\n",
    "        index = hash(key) % self.capacity  # вычисляем хэш-код ключа и индекс ячейки таблицы\n",
    "        node = self.buckets[index]  # получаем список (цепочку) элементов по индексу\n",
    "        while node:  # проходим по всем элементам цепочки\n",
    "            if node.key == key:  # если ключ уже есть в таблице, обновляем значение\n",
    "                node.value = value\n",
    "                return\n",
    "            node = node.next\n",
    "        # если ключа нет в таблице, добавляем его в начало цепочки\n",
    "        new_node = HashNode(key, value)\n",
    "        new_node.next = self.buckets[index]\n",
    "        self.buckets[index] = new_node\n",
    "        self.size += 1\n",
    "        # если количество элементов превысило 70% от емкости таблицы, увеличиваем емкость вдвое\n",
    "        if self.size > 0.7 * self.capacity:\n",
    "            self.resize()\n",
    "\n",
    "    # Метод получения значения по ключу\n",
    "    def get(self, key):\n",
    "        index = hash(key) % self.capacity  # вычисляем хэш-код ключа и индекс ячейки таблицы\n",
    "        node = self.buckets[index]  # получаем список (цепочку) элементов по индексу\n",
    "        while node:  # проходим по всем элементам цепочки\n",
    "            if node.key == key:  # если ключ найден, возвращаем его значение\n",
    "                return node.value\n",
    "            node = node.next\n",
    "        # если ключ не найден, возвращаем None\n",
    "        return None\n",
    "\n",
    "    # Метод удаления элемента из таблицы\n",
    "    def remove(self, key):\n",
    "        index = hash(key) % self.capacity  # вычисляем хэш-код ключа и индекс ячейки таблицы\n",
    "        node = self.buckets[index]  # получаем список (цепочку) элементов по индексу\n",
    "        prev = None\n",
    "        while node:  # проходим по всем элементам цепочки\n",
    "            if node.key == key:  # если ключ найден, удаляем элемент\n",
    "                if prev:\n",
    "                    prev.next = node.next\n",
    "                else:\n",
    "                    self.buckets[index] = node.next\n",
    "                self.size -= 1\n",
    "                return\n",
    "            prev = node\n",
    "            node = node.next\n",
    "\n",
    "    # Метод изменения емкости таблицы\n",
    "    def resize(self):\n",
    "        new_capacity = self.capacity * 2  # увеличиваем емкость вдвое\n",
    "        new_buckets = [None] * new_capacity  # создаем новую таблицу с увеличенной емкостью\n",
    "        # перехешируем все элементы из старой таблицы в новую\n",
    "        for i in range(self.capacity):\n",
    "            node = self.buckets[i]\n",
    "            while node:\n",
    "                index = hash(node.key) % new_capacity\n",
    "                if new_buckets[index]:\n",
    "                    new_node = new_buckets[index]\n",
    "                    while new_node.next:\n",
    "                        new_node = new_node.next\n",
    "                    new_node.next = HashNode(node.key, node.value)\n",
    "                else:\n",
    "                    new_buckets[index] = HashNode(node.key, node.value)\n",
    "                node = node.next\n",
    "        self.capacity = new_capacity\n",
    "        self.buckets = new_buckets"
   ]
  },
  {
   "cell_type": "code",
   "execution_count": 30,
   "id": "6a9f1857",
   "metadata": {
    "scrolled": true
   },
   "outputs": [
    {
     "name": "stdout",
     "output_type": "stream",
     "text": [
      "value1\n",
      "None\n",
      "1\n",
      "2\n"
     ]
    }
   ],
   "source": [
    "ht = HashTable()\n",
    "ht.add('key1', 'value1')\n",
    "ht.add('key2', 'value2')\n",
    "ht.add('key3', 'value3')\n",
    "ht.add('key4', 'value4')\n",
    "ht.add('key5', 1)\n",
    "ht.add('key6', 2)\n",
    "print(ht.get('key1')) # 'value1'\n",
    "ht.remove('key3')\n",
    "print(ht.get('key3')) # None\n",
    "print(ht.get('key5')) # 1\n",
    "print(ht.get('key6')) # 2"
   ]
  },
  {
   "cell_type": "markdown",
   "id": "7004c575",
   "metadata": {},
   "source": [
    "### Задание 3\n",
    "Расставить на стандартной 64-клеточной шахматной доске 8 ферзей так, чтобы ни один из них не находился под боем другого». Подразумевается, что ферзь бьёт все клетки, расположенные по вертикалям, горизонталям и обеим диагоналям"
   ]
  },
  {
   "cell_type": "code",
   "execution_count": 67,
   "id": "88fb4ac1",
   "metadata": {
    "scrolled": true
   },
   "outputs": [
    {
     "name": "stdout",
     "output_type": "stream",
     "text": [
      "▢▢▢▢♛▢▢▢\n",
      "♛▢▢▢▢▢▢▢\n",
      "▢▢▢♛▢▢▢▢\n",
      "▢▢▢▢▢♛▢▢\n",
      "▢▢▢▢▢▢▢♛\n",
      "▢♛▢▢▢▢▢▢\n",
      "▢▢▢▢▢▢♛▢\n",
      "▢▢♛▢▢▢▢▢\n"
     ]
    }
   ],
   "source": [
    "class Queen:\n",
    "    def __init__(self, x, y):\n",
    "        self.x = x\n",
    "        self.y = y\n",
    "\n",
    "    def attack(self, queen) -> bool:\n",
    "        return self.x == queen.x or self.y == queen.y or abs(queen.x - self.x) == abs(queen.y - self.y)\n",
    "\n",
    "    def getCoord(self):\n",
    "        return (self.x, self.y)\n",
    "\n",
    "\n",
    "def SolveQueens(boardSize: int, queens: list = None):\n",
    "    if queens is None:\n",
    "        \n",
    "        queens = [Queen(0, random.randint(0, boardSize-1))]\n",
    "\n",
    "    if len(queens) == boardSize:\n",
    "        res = []\n",
    "        for queen in queens:\n",
    "            res.append(queen.getCoord())\n",
    "        return res\n",
    "    else:\n",
    "        row = len(queens)\n",
    "        candidates = [Queen(row, i) for i in range(boardSize)]\n",
    "        for candidate in candidates:\n",
    "            under_attack = False\n",
    "            for queen in queens:\n",
    "                if queen.attack(candidate):\n",
    "                    under_attack = True\n",
    "                    break\n",
    "            if not under_attack:\n",
    "                queens.append(candidate)\n",
    "                result = SolveQueens(boardSize, queens)\n",
    "                if result is not None:\n",
    "                    return result\n",
    "                queens.pop()\n",
    "        return None\n",
    "\n",
    "def Draw(placement):\n",
    "    boardSize = len(placement)\n",
    "    for x in range(boardSize):\n",
    "        for y in range(boardSize):\n",
    "            if (x,y) in placement:\n",
    "                print(\"♛\", end=\"\")\n",
    "            else:\n",
    "                print(\"▢\", end=\"\")\n",
    "        print()\n",
    "\n",
    "Draw(SolveQueens(8))"
   ]
  },
  {
   "cell_type": "code",
   "execution_count": null,
   "id": "0c25ca58",
   "metadata": {},
   "outputs": [],
   "source": []
  }
 ],
 "metadata": {
  "kernelspec": {
   "display_name": "Python 3 (ipykernel)",
   "language": "python",
   "name": "python3"
  },
  "language_info": {
   "codemirror_mode": {
    "name": "ipython",
    "version": 3
   },
   "file_extension": ".py",
   "mimetype": "text/x-python",
   "name": "python",
   "nbconvert_exporter": "python",
   "pygments_lexer": "ipython3",
   "version": "3.9.13"
  }
 },
 "nbformat": 4,
 "nbformat_minor": 5
}
